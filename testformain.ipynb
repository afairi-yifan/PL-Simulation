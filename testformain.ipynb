{
 "cells": [
  {
   "cell_type": "code",
   "execution_count": 21,
   "id": "f452ee98",
   "metadata": {},
   "outputs": [
    {
     "name": "stdout",
     "output_type": "stream",
     "text": [
      "The autoreload extension is already loaded. To reload it, use:\n",
      "  %reload_ext autoreload\n"
     ]
    }
   ],
   "source": [
    "import warnings\n",
    "import os\n",
    "import warnings\n",
    "import pandas as pd\n",
    "from pandas import ExcelWriter\n",
    "\n",
    "import config\n",
    "import config as cf\n",
    "import numpy as np\n",
    "from functions import *\n",
    "warnings.simplefilter(action='ignore', category=FutureWarning)\n",
    "# warnings.simplefilter(action='ignore', category=pd.core.common.SettingWithCopyWarning)\n",
    "## autoreload reloads modules automatically before entering the execution of code\n",
    "%load_ext autoreload  \n",
    "%autoreload 2"
   ]
  },
  {
   "cell_type": "code",
   "execution_count": 2,
   "id": "34aa482b",
   "metadata": {},
   "outputs": [],
   "source": [
    "path_dir='data/input/data1.xlsx'"
   ]
  },
  {
   "cell_type": "markdown",
   "source": [
    "## Create dataInputFunction and dataframe"
   ],
   "metadata": {
    "collapsed": false
   }
  },
  {
   "cell_type": "code",
   "execution_count": 17,
   "outputs": [],
   "source": [
    "def createDataFrameworkSuffix(filepath, cohort_type, cohort_numb):\n",
    "    df = pd.read_excel(cf.file_path, sheet_name=f'Cohort {coh_type} {coh_numb}', skiprows=1)\n",
    "    df['Variable'] =  df['Variable'] + '-' + df['Suffix']\n",
    "    return df\n",
    "\n",
    "def load_inputs_outputs_variables2(df):\n",
    "    outputs1 = list(df.loc[df['Index'] == 1, 'Variable'])\n",
    "    outputs2 = list(df.loc[df['Index'] == 2, 'Variable'])\n",
    "    outputs3 = list(df.loc[df['Index'] == 3, 'Variable'])\n",
    "    return outputs1, outputs2, outputs3\n",
    "\n",
    "def dataframe_from_excel2(dataframe, outputs1, outputs2, outputs3):\n",
    "    index_names = dataframe['Variable']\n",
    "    dataframe = dataframe.filter(like=\"Value\", axis=1)\n",
    "    dataframe.index = index_names\n",
    "    df_data = dataframe.loc[outputs1 + outputs2 + outputs3]\n",
    "    lines = np.arange(-12, 121, 1)\n",
    "    df_data.columns = lines\n",
    "    df_input = df_data.transpose()\n",
    "    return df_input"
   ],
   "metadata": {
    "collapsed": false,
    "pycharm": {
     "name": "#%%\n"
    }
   }
  },
  {
   "cell_type": "code",
   "execution_count": 23,
   "outputs": [],
   "source": [
    "data = CustomData(cf.file_path, 'UW', 'G1')\n",
    "data_dic = get_global_data(cf.file_path)\n",
    "df = data.dataframe_from_excel()\n",
    "list_var = data.load_list_outputs_variables()\n",
    "# c1 = Cohort(df, list_var, data_dic[1])\n",
    "df_test = df.copy()"
   ],
   "metadata": {
    "collapsed": false,
    "pycharm": {
     "name": "#%%\n"
    }
   }
  },
  {
   "cell_type": "code",
   "execution_count": 57,
   "outputs": [
    {
     "data": {
      "text/plain": "0.0"
     },
     "execution_count": 57,
     "metadata": {},
     "output_type": "execute_result"
    }
   ],
   "source": [
    "vars = ['Quantity-P&L', 'Retention ratio monthly-P&L', 'Retention ratio yearly-P&L']\n",
    "df_test.loc[-1, vars].sum()"
   ],
   "metadata": {
    "collapsed": false,
    "pycharm": {
     "name": "#%%\n"
    }
   }
  },
  {
   "cell_type": "code",
   "execution_count": 58,
   "outputs": [
    {
     "name": "stderr",
     "output_type": "stream",
     "text": [
      "[autoreload of functions failed: Traceback (most recent call last):\n",
      "  File \"/Users/cosmicthermo/miniconda3/envs/pytorchenv/lib/python3.8/site-packages/IPython/extensions/autoreload.py\", line 257, in check\n",
      "    superreload(m, reload, self.old_objects)\n",
      "  File \"/Users/cosmicthermo/miniconda3/envs/pytorchenv/lib/python3.8/site-packages/IPython/extensions/autoreload.py\", line 455, in superreload\n",
      "    module = reload(module)\n",
      "  File \"/Users/cosmicthermo/miniconda3/envs/pytorchenv/lib/python3.8/importlib/__init__.py\", line 169, in reload\n",
      "    _bootstrap._exec(spec, module)\n",
      "  File \"<frozen importlib._bootstrap>\", line 604, in _exec\n",
      "  File \"<frozen importlib._bootstrap_external>\", line 839, in exec_module\n",
      "  File \"<frozen importlib._bootstrap_external>\", line 976, in get_code\n",
      "  File \"<frozen importlib._bootstrap_external>\", line 906, in source_to_code\n",
      "  File \"<frozen importlib._bootstrap>\", line 219, in _call_with_frames_removed\n",
      "  File \"/Users/cosmicthermo/Desktop/Afairi-Work/Github/PL-Simulation/functions.py\", line 182\n",
      "    def __repr__(self):\n",
      "    ^\n",
      "IndentationError: expected an indented block\n",
      "]\n"
     ]
    },
    {
     "data": {
      "text/plain": "range(-12, 121)"
     },
     "execution_count": 58,
     "metadata": {},
     "output_type": "execute_result"
    }
   ],
   "source": [
    "range(-12, 121)"
   ],
   "metadata": {
    "collapsed": false,
    "pycharm": {
     "name": "#%%\n"
    }
   }
  },
  {
   "cell_type": "code",
   "execution_count": 44,
   "outputs": [
    {
     "data": {
      "text/plain": "Variable  Quantity-P&L  Retention ratio yearly-P&L  \\\n-12                NaN                         NaN   \n-11                NaN                         NaN   \n-10                NaN                         NaN   \n-9                 NaN                         NaN   \n-8                 NaN                         NaN   \n-7                 NaN                         NaN   \n-6                 NaN                         NaN   \n-5                 NaN                         NaN   \n-4                 NaN                         NaN   \n-3                 NaN                         NaN   \n-2                 NaN                         NaN   \n-1                 NaN                         NaN   \n 0                 5.0                         0.8   \n\nVariable  Retention ratio monthly-P&L  Price increase-P&L  \\\n-12                               NaN                 NaN   \n-11                               NaN                 NaN   \n-10                               NaN                 NaN   \n-9                                NaN                 NaN   \n-8                                NaN                 NaN   \n-7                                NaN                 NaN   \n-6                                NaN                 NaN   \n-5                                NaN                 NaN   \n-4                                NaN                 NaN   \n-3                                NaN                 NaN   \n-2                                NaN                 NaN   \n-1                                NaN                 NaN   \n 0                           0.981577                 NaN   \n\nVariable  Premium per month-P&L  Premium, Volume-P&L  Net revenue-P&L  \\\n-12                         NaN                  NaN              NaN   \n-11                         NaN                  NaN              NaN   \n-10                         NaN                  NaN              NaN   \n-9                          NaN                  NaN              NaN   \n-8                          NaN                  NaN              NaN   \n-7                          NaN                  NaN              NaN   \n-6                          NaN                  NaN              NaN   \n-5                          NaN                  NaN              NaN   \n-4                          NaN                  NaN              NaN   \n-3                          NaN                  NaN              NaN   \n-2                          NaN                  NaN              NaN   \n-1                          NaN                  NaN              NaN   \n 0                        100.0                500.0            500.0   \n\nVariable  Risk ratio-P&L  Loss-P&L  Expense Ratio-P&L  ...  \\\n-12                  NaN       NaN                NaN  ...   \n-11                  NaN       NaN                NaN  ...   \n-10                  NaN       NaN                NaN  ...   \n-9                   NaN       NaN                NaN  ...   \n-8                   NaN       NaN                NaN  ...   \n-7                   NaN       NaN                NaN  ...   \n-6                   NaN       NaN                NaN  ...   \n-5                   NaN       NaN                NaN  ...   \n-4                   NaN       NaN                NaN  ...   \n-3                   NaN       NaN                NaN  ...   \n-2                   NaN       NaN                NaN  ...   \n-1                   NaN       NaN                NaN  ...   \n 0                   0.8     400.0               0.05  ...   \n\nVariable  Interest rate-FinanceSide  Interest payment-FinanceSide  \\\n-12                             NaN                           NaN   \n-11                             NaN                           NaN   \n-10                             NaN                           NaN   \n-9                              NaN                           NaN   \n-8                              NaN                           NaN   \n-7                              NaN                           NaN   \n-6                              NaN                           NaN   \n-5                              NaN                           NaN   \n-4                              NaN                           NaN   \n-3                              NaN                           NaN   \n-2                              NaN                           NaN   \n-1                              NaN                           NaN   \n 0                             0.05                           0.0   \n\nVariable  Cash from investing activities-FinanceSide  \\\n-12                                              NaN   \n-11                                              NaN   \n-10                                              NaN   \n-9                                               NaN   \n-8                                               NaN   \n-7                                               NaN   \n-6                                               NaN   \n-5                                               NaN   \n-4                                               NaN   \n-3                                               NaN   \n-2                                               NaN   \n-1                                               NaN   \n 0                                               0.0   \n\nVariable  Risk loss 12 months-Assets  Expenses 12 months-Assets  \\\n-12                      1748.012827                        NaN   \n-11                      1748.012827                        NaN   \n-10                      1748.012827                        NaN   \n-9                       1748.012827                        NaN   \n-8                       1748.012827                        NaN   \n-7                       1748.012827                        NaN   \n-6                       1748.012827                -109.250802   \n-5                       1748.012827                -109.250802   \n-4                       1748.012827                -109.250802   \n-3                       1748.012827                -109.250802   \n-2                       1748.012827                -109.250802   \n-1                       1748.012827                -109.250802   \n 0                       1748.012827                   0.000000   \n\nVariable  Acquisition 12 months-Assets  Forecast Loss 12 months-Liability  \\\n-12                                NaN                                NaN   \n-11                                NaN                                NaN   \n-10                                NaN                                NaN   \n-9                                 NaN                                NaN   \n-8                                 NaN                                NaN   \n-7                                 NaN                                NaN   \n-6                                 NaN                                NaN   \n-5                                 NaN                                NaN   \n-4                                 NaN                                NaN   \n-3                              -540.0                                NaN   \n-2                              -540.0                                NaN   \n-1                              -540.0                                NaN   \n 0                                 0.0                        4370.032068   \n\nVariable  Loss requirement 12 months-Liability  \\\n-12                                        NaN   \n-11                                        NaN   \n-10                                        NaN   \n-9                                         NaN   \n-8                                         NaN   \n-7                                         NaN   \n-6                                         NaN   \n-5                                         NaN   \n-4                                         NaN   \n-3                                         NaN   \n-2                                         NaN   \n-1                                         NaN   \n 0                                 1748.012827   \n\nVariable  Forecast Expense 12 months-Liability  \\\n-12                                        NaN   \n-11                                        NaN   \n-10                                        NaN   \n-9                                         NaN   \n-8                                         NaN   \n-7                                         NaN   \n-6                                         NaN   \n-5                                         NaN   \n-4                                         NaN   \n-3                                         NaN   \n-2                                         NaN   \n-1                                         NaN   \n 0                                  273.127004   \n\nVariable  Expense capital requirement absolute-Liability  \n-12                                                  NaN  \n-11                                                  NaN  \n-10                                                  NaN  \n-9                                                   NaN  \n-8                                                   NaN  \n-7                                                   NaN  \n-6                                                   NaN  \n-5                                                   NaN  \n-4                                                   NaN  \n-3                                                   NaN  \n-2                                                   NaN  \n-1                                                   NaN  \n 0                                            109.250802  \n\n[13 rows x 58 columns]",
      "text/html": "<div>\n<style scoped>\n    .dataframe tbody tr th:only-of-type {\n        vertical-align: middle;\n    }\n\n    .dataframe tbody tr th {\n        vertical-align: top;\n    }\n\n    .dataframe thead th {\n        text-align: right;\n    }\n</style>\n<table border=\"1\" class=\"dataframe\">\n  <thead>\n    <tr style=\"text-align: right;\">\n      <th>Variable</th>\n      <th>Quantity-P&amp;L</th>\n      <th>Retention ratio yearly-P&amp;L</th>\n      <th>Retention ratio monthly-P&amp;L</th>\n      <th>Price increase-P&amp;L</th>\n      <th>Premium per month-P&amp;L</th>\n      <th>Premium, Volume-P&amp;L</th>\n      <th>Net revenue-P&amp;L</th>\n      <th>Risk ratio-P&amp;L</th>\n      <th>Loss-P&amp;L</th>\n      <th>Expense Ratio-P&amp;L</th>\n      <th>...</th>\n      <th>Interest rate-FinanceSide</th>\n      <th>Interest payment-FinanceSide</th>\n      <th>Cash from investing activities-FinanceSide</th>\n      <th>Risk loss 12 months-Assets</th>\n      <th>Expenses 12 months-Assets</th>\n      <th>Acquisition 12 months-Assets</th>\n      <th>Forecast Loss 12 months-Liability</th>\n      <th>Loss requirement 12 months-Liability</th>\n      <th>Forecast Expense 12 months-Liability</th>\n      <th>Expense capital requirement absolute-Liability</th>\n    </tr>\n  </thead>\n  <tbody>\n    <tr>\n      <th>-12</th>\n      <td>NaN</td>\n      <td>NaN</td>\n      <td>NaN</td>\n      <td>NaN</td>\n      <td>NaN</td>\n      <td>NaN</td>\n      <td>NaN</td>\n      <td>NaN</td>\n      <td>NaN</td>\n      <td>NaN</td>\n      <td>...</td>\n      <td>NaN</td>\n      <td>NaN</td>\n      <td>NaN</td>\n      <td>1748.012827</td>\n      <td>NaN</td>\n      <td>NaN</td>\n      <td>NaN</td>\n      <td>NaN</td>\n      <td>NaN</td>\n      <td>NaN</td>\n    </tr>\n    <tr>\n      <th>-11</th>\n      <td>NaN</td>\n      <td>NaN</td>\n      <td>NaN</td>\n      <td>NaN</td>\n      <td>NaN</td>\n      <td>NaN</td>\n      <td>NaN</td>\n      <td>NaN</td>\n      <td>NaN</td>\n      <td>NaN</td>\n      <td>...</td>\n      <td>NaN</td>\n      <td>NaN</td>\n      <td>NaN</td>\n      <td>1748.012827</td>\n      <td>NaN</td>\n      <td>NaN</td>\n      <td>NaN</td>\n      <td>NaN</td>\n      <td>NaN</td>\n      <td>NaN</td>\n    </tr>\n    <tr>\n      <th>-10</th>\n      <td>NaN</td>\n      <td>NaN</td>\n      <td>NaN</td>\n      <td>NaN</td>\n      <td>NaN</td>\n      <td>NaN</td>\n      <td>NaN</td>\n      <td>NaN</td>\n      <td>NaN</td>\n      <td>NaN</td>\n      <td>...</td>\n      <td>NaN</td>\n      <td>NaN</td>\n      <td>NaN</td>\n      <td>1748.012827</td>\n      <td>NaN</td>\n      <td>NaN</td>\n      <td>NaN</td>\n      <td>NaN</td>\n      <td>NaN</td>\n      <td>NaN</td>\n    </tr>\n    <tr>\n      <th>-9</th>\n      <td>NaN</td>\n      <td>NaN</td>\n      <td>NaN</td>\n      <td>NaN</td>\n      <td>NaN</td>\n      <td>NaN</td>\n      <td>NaN</td>\n      <td>NaN</td>\n      <td>NaN</td>\n      <td>NaN</td>\n      <td>...</td>\n      <td>NaN</td>\n      <td>NaN</td>\n      <td>NaN</td>\n      <td>1748.012827</td>\n      <td>NaN</td>\n      <td>NaN</td>\n      <td>NaN</td>\n      <td>NaN</td>\n      <td>NaN</td>\n      <td>NaN</td>\n    </tr>\n    <tr>\n      <th>-8</th>\n      <td>NaN</td>\n      <td>NaN</td>\n      <td>NaN</td>\n      <td>NaN</td>\n      <td>NaN</td>\n      <td>NaN</td>\n      <td>NaN</td>\n      <td>NaN</td>\n      <td>NaN</td>\n      <td>NaN</td>\n      <td>...</td>\n      <td>NaN</td>\n      <td>NaN</td>\n      <td>NaN</td>\n      <td>1748.012827</td>\n      <td>NaN</td>\n      <td>NaN</td>\n      <td>NaN</td>\n      <td>NaN</td>\n      <td>NaN</td>\n      <td>NaN</td>\n    </tr>\n    <tr>\n      <th>-7</th>\n      <td>NaN</td>\n      <td>NaN</td>\n      <td>NaN</td>\n      <td>NaN</td>\n      <td>NaN</td>\n      <td>NaN</td>\n      <td>NaN</td>\n      <td>NaN</td>\n      <td>NaN</td>\n      <td>NaN</td>\n      <td>...</td>\n      <td>NaN</td>\n      <td>NaN</td>\n      <td>NaN</td>\n      <td>1748.012827</td>\n      <td>NaN</td>\n      <td>NaN</td>\n      <td>NaN</td>\n      <td>NaN</td>\n      <td>NaN</td>\n      <td>NaN</td>\n    </tr>\n    <tr>\n      <th>-6</th>\n      <td>NaN</td>\n      <td>NaN</td>\n      <td>NaN</td>\n      <td>NaN</td>\n      <td>NaN</td>\n      <td>NaN</td>\n      <td>NaN</td>\n      <td>NaN</td>\n      <td>NaN</td>\n      <td>NaN</td>\n      <td>...</td>\n      <td>NaN</td>\n      <td>NaN</td>\n      <td>NaN</td>\n      <td>1748.012827</td>\n      <td>-109.250802</td>\n      <td>NaN</td>\n      <td>NaN</td>\n      <td>NaN</td>\n      <td>NaN</td>\n      <td>NaN</td>\n    </tr>\n    <tr>\n      <th>-5</th>\n      <td>NaN</td>\n      <td>NaN</td>\n      <td>NaN</td>\n      <td>NaN</td>\n      <td>NaN</td>\n      <td>NaN</td>\n      <td>NaN</td>\n      <td>NaN</td>\n      <td>NaN</td>\n      <td>NaN</td>\n      <td>...</td>\n      <td>NaN</td>\n      <td>NaN</td>\n      <td>NaN</td>\n      <td>1748.012827</td>\n      <td>-109.250802</td>\n      <td>NaN</td>\n      <td>NaN</td>\n      <td>NaN</td>\n      <td>NaN</td>\n      <td>NaN</td>\n    </tr>\n    <tr>\n      <th>-4</th>\n      <td>NaN</td>\n      <td>NaN</td>\n      <td>NaN</td>\n      <td>NaN</td>\n      <td>NaN</td>\n      <td>NaN</td>\n      <td>NaN</td>\n      <td>NaN</td>\n      <td>NaN</td>\n      <td>NaN</td>\n      <td>...</td>\n      <td>NaN</td>\n      <td>NaN</td>\n      <td>NaN</td>\n      <td>1748.012827</td>\n      <td>-109.250802</td>\n      <td>NaN</td>\n      <td>NaN</td>\n      <td>NaN</td>\n      <td>NaN</td>\n      <td>NaN</td>\n    </tr>\n    <tr>\n      <th>-3</th>\n      <td>NaN</td>\n      <td>NaN</td>\n      <td>NaN</td>\n      <td>NaN</td>\n      <td>NaN</td>\n      <td>NaN</td>\n      <td>NaN</td>\n      <td>NaN</td>\n      <td>NaN</td>\n      <td>NaN</td>\n      <td>...</td>\n      <td>NaN</td>\n      <td>NaN</td>\n      <td>NaN</td>\n      <td>1748.012827</td>\n      <td>-109.250802</td>\n      <td>-540.0</td>\n      <td>NaN</td>\n      <td>NaN</td>\n      <td>NaN</td>\n      <td>NaN</td>\n    </tr>\n    <tr>\n      <th>-2</th>\n      <td>NaN</td>\n      <td>NaN</td>\n      <td>NaN</td>\n      <td>NaN</td>\n      <td>NaN</td>\n      <td>NaN</td>\n      <td>NaN</td>\n      <td>NaN</td>\n      <td>NaN</td>\n      <td>NaN</td>\n      <td>...</td>\n      <td>NaN</td>\n      <td>NaN</td>\n      <td>NaN</td>\n      <td>1748.012827</td>\n      <td>-109.250802</td>\n      <td>-540.0</td>\n      <td>NaN</td>\n      <td>NaN</td>\n      <td>NaN</td>\n      <td>NaN</td>\n    </tr>\n    <tr>\n      <th>-1</th>\n      <td>NaN</td>\n      <td>NaN</td>\n      <td>NaN</td>\n      <td>NaN</td>\n      <td>NaN</td>\n      <td>NaN</td>\n      <td>NaN</td>\n      <td>NaN</td>\n      <td>NaN</td>\n      <td>NaN</td>\n      <td>...</td>\n      <td>NaN</td>\n      <td>NaN</td>\n      <td>NaN</td>\n      <td>1748.012827</td>\n      <td>-109.250802</td>\n      <td>-540.0</td>\n      <td>NaN</td>\n      <td>NaN</td>\n      <td>NaN</td>\n      <td>NaN</td>\n    </tr>\n    <tr>\n      <th>0</th>\n      <td>5.0</td>\n      <td>0.8</td>\n      <td>0.981577</td>\n      <td>NaN</td>\n      <td>100.0</td>\n      <td>500.0</td>\n      <td>500.0</td>\n      <td>0.8</td>\n      <td>400.0</td>\n      <td>0.05</td>\n      <td>...</td>\n      <td>0.05</td>\n      <td>0.0</td>\n      <td>0.0</td>\n      <td>1748.012827</td>\n      <td>0.000000</td>\n      <td>0.0</td>\n      <td>4370.032068</td>\n      <td>1748.012827</td>\n      <td>273.127004</td>\n      <td>109.250802</td>\n    </tr>\n  </tbody>\n</table>\n<p>13 rows × 58 columns</p>\n</div>"
     },
     "execution_count": 44,
     "metadata": {},
     "output_type": "execute_result"
    }
   ],
   "source": [
    "slice = df_test.loc[0] ## Create a dataframe from\n",
    "slice_test = pd.DataFrame(slice).transpose()\n",
    "# df_test2 = pd.concat([df_test, slice], axis=0)\n",
    "# type(slice)\n",
    "# df_test2\n",
    "slice_test\n",
    "more_slice = df_test.loc[:0]\n",
    "more_slice"
   ],
   "metadata": {
    "collapsed": false,
    "pycharm": {
     "name": "#%%\n"
    }
   }
  },
  {
   "cell_type": "code",
   "execution_count": 50,
   "outputs": [
    {
     "data": {
      "text/plain": "10.0"
     },
     "execution_count": 50,
     "metadata": {},
     "output_type": "execute_result"
    }
   ],
   "source": [
    "premium = 10\n",
    "start_month = 0\n",
    "for i in df_input.index:\n",
    "    if i < 0:\n",
    "        continue\n",
    "    if (i - start_month) % 5 == 0 and i != start_month:\n",
    "        premium *= 1.05\n",
    "    df_input.loc[i, 'Price increase-P&L'] = premium\n",
    "df_input['Price increase-P&L'][0]"
   ],
   "metadata": {
    "collapsed": false,
    "pycharm": {
     "name": "#%%\n"
    }
   }
  },
  {
   "cell_type": "code",
   "execution_count": 86,
   "outputs": [
    {
     "data": {
      "text/plain": "Variable\nQuantity-P&L                                            10.000000\nRetention ratio yearly-P&L                               0.800000\nRetention ratio monthly-P&L                              0.981577\nPrice increase-P&L                                            NaN\nPremium per month-P&L                                    5.000000\nPremium, Volume-P&L                                    500.000000\nNet revenue-P&L                                        500.000000\nRisk ratio-P&L                                           0.800000\nLoss-P&L                                               400.000000\nExpense Ratio-P&L                                        0.050000\nExpenses-P&L                                            25.000000\nNet income pre-acquisition cost-P&L                     75.000000\nAcquisition Ratio-P&L                                    0.150000\nAcquisition Costs-P&L                                  900.000000\nNet income-P&L                                        -825.000000\nLoss ratio-PreviousII                                    0.600000\nTime advancement in months loss-PreviousII             -12.000000\nLoss in advance-PreviousII                             317.052245\nLoss in advance-real-PreviousII                        622.800526\nExpense in advance ratio-PreviousII                      0.600000\nTime advancement in months expenses-PreviousII          -6.000000\nExpenses in advance-PreviousII                          38.925033\nAcquisition in advance ratio-PreviousII                  0.600000\nTime advancement in months acquisition-PreviousII       -3.000000\nAcquisition Costs in advance-PreviousII                540.000000\nLoss requirement absolute-NowCast                      622.800526\nLoss-NowCast                                            82.947755\nExpense capital requirement absolute-NowCast            38.925033\nExpenses-NowCast                                        25.000000\nAcquisition-NowCast                                    360.000000\nNet income-NowCast                                     392.052245\nRevenue-CashFlow                                       500.000000\nLoss from contious operations-CashFlow                  82.947755\nExpenses from continuous operations-CashFlow            25.000000\nEarnings-CashFlow                                      392.052245\nChange from non-cash to cash-OperateSide               317.052245\nCash from operating activities-OperateSide             392.052245\nWorking capital acquisition1-InvestSide                       NaN\nWorking capital expenses1-InvestSide                          NaN\nWorking capital loss1-InvestSide                              NaN\nResearch and Development1-InvestSide                     0.000000\nBusiness-expansion (market entry cost)1-InvestSide       0.000000\nCash from investing activities1-InvestSide               0.000000\nRegulatory requirement ratio-InvestSide                  0.500000\nTime advancement in months-InvestSide                  -12.000000\nRegulatory requirement absolute-InvestSide            2400.000000\nWorking capital financing-FinanceSide                    0.000000\nWorking capital financing ratio-FinanceSide              0.000000\nInterest rate-FinanceSide                                0.050000\nInterest payment-FinanceSide                             0.000000\nCash from investing activities-FinanceSide               0.000000\nRisk loss 12 months-Assets                             622.800526\nExpenses 12 months-Assets                                0.000000\nAcquisition 12 months-Assets                             0.000000\nForecast Loss 12 months-Liability                     1557.001316\nLoss requirement 12 months-Liability                   622.800526\nForecast Expense 12 months-Liability                    97.312582\nExpense capital requirement absolute-Liability          38.925033\nName: 0, dtype: float64"
     },
     "execution_count": 86,
     "metadata": {},
     "output_type": "execute_result"
    }
   ],
   "source": [
    "price_increase_circle = 12\n",
    "start_month = 0\n",
    "premium = 5\n",
    "data = df_input\n",
    "for i in data.index:\n",
    "    if i < start_month:\n",
    "        continue\n",
    "    if (i - start_month) % price_increase_circle == 0 and i != start_month:\n",
    "        premium *= 1.05\n",
    "    data.loc[i, 'Premium per month-P&L'] = premium\n",
    "df_1 = df_input.loc[:0]\n",
    "df_slice = df_input.loc[0]\n",
    "df_slice['Quantity-P&L'] = 10\n",
    "df_slice"
   ],
   "metadata": {
    "collapsed": false,
    "pycharm": {
     "name": "#%%\n"
    }
   }
  },
  {
   "cell_type": "code",
   "execution_count": 255,
   "outputs": [
    {
     "name": "stdout",
     "output_type": "stream",
     "text": [
      "Print out the input variables as the following:\n",
      "['Quantity-P&L', 'Retention ratio yearly-P&L', 'Retention ratio monthly-P&L', 'Price increase-P&L', 'Premium per month-P&L', 'Risk ratio-P&L', 'Expense Ratio-P&L', 'Acquisition Ratio-P&L', 'Loss ratio-PreviousII', 'Time advancement in months loss-PreviousII', 'Expense in advance ratio-PreviousII', 'Time advancement in months expenses-PreviousII', 'Acquisition in advance ratio-PreviousII', 'Time advancement in months acquisition-PreviousII', 'Loss requirement absolute-NowCast', 'Expense capital requirement absolute-NowCast', 'Regulatory requirement ratio-InvestSide', 'Time advancement in months-InvestSide', 'Working capital financing ratio-FinanceSide', 'Interest rate-FinanceSide'] \n",
      "\n",
      "Print out the output variables as the following:\n",
      "['Premium, Volume-P&L', 'Net revenue-P&L', 'Loss-P&L', 'Expenses-P&L', 'Net income pre-acquisition cost-P&L', 'Acquisition Costs-P&L', 'Net income-P&L', 'Loss in advance-PreviousII', 'Expenses in advance-PreviousII', 'Acquisition Costs in advance-PreviousII', 'Loss-NowCast', 'Expenses-NowCast', 'Acquisition-NowCast', 'Net income-NowCast', 'Revenue-CashFlow', 'Loss from contious operations-CashFlow', 'Expenses from continuous operations-CashFlow', 'Earnings-CashFlow', 'Change from non-cash to cash-OperateSide', 'Cash from operating activities-OperateSide', 'Working capital acquisition1-InvestSide', 'Working capital expenses1-InvestSide', 'Working capital loss1-InvestSide', 'Research and Development1-InvestSide', 'Business-expansion (market entry cost)1-InvestSide', 'Cash from investing activities1-InvestSide', 'Regulatory requirement absolute-InvestSide', 'Working capital financing-FinanceSide', 'Interest payment-FinanceSide', 'Cash from investing activities-FinanceSide', 'Risk loss 12 months-Assets', 'Expenses 12 months-Assets', 'Acquisition 12 months-Assets', 'Forecast Loss 12 months-Liability', 'Loss requirement 12 months-Liability', 'Forecast Expense 12 months-Liability', 'Expense capital requirement absolute-Liability'] \n",
      "\n",
      "20 37\n"
     ]
    }
   ],
   "source": [
    "coh_type = 'UW'\n",
    "coh_numb = 'G1'\n",
    "df = createDataFrameworkSuffix(cf.file_path, coh_type, coh_numb)\n",
    "output_var = load_inputs_outputs_variables(df)\n",
    "print(output_var.__len__())\n",
    "output_var"
   ],
   "metadata": {
    "collapsed": false,
    "pycharm": {
     "name": "#%%\n"
    }
   }
  },
  {
   "cell_type": "code",
   "execution_count": 8,
   "outputs": [
    {
     "ename": "NameError",
     "evalue": "name 'createDataFrameworkSuffix' is not defined",
     "output_type": "error",
     "traceback": [
      "\u001B[0;31m---------------------------------------------------------------------------\u001B[0m",
      "\u001B[0;31mNameError\u001B[0m                                 Traceback (most recent call last)",
      "Input \u001B[0;32mIn [8]\u001B[0m, in \u001B[0;36m<cell line: 3>\u001B[0;34m()\u001B[0m\n\u001B[1;32m      1\u001B[0m coh_type \u001B[38;5;241m=\u001B[39m \u001B[38;5;124m'\u001B[39m\u001B[38;5;124mUW\u001B[39m\u001B[38;5;124m'\u001B[39m\n\u001B[1;32m      2\u001B[0m coh_numb \u001B[38;5;241m=\u001B[39m \u001B[38;5;124m'\u001B[39m\u001B[38;5;124mG1\u001B[39m\u001B[38;5;124m'\u001B[39m\n\u001B[0;32m----> 3\u001B[0m df \u001B[38;5;241m=\u001B[39m \u001B[43mcreateDataFrameworkSuffix\u001B[49m(cf\u001B[38;5;241m.\u001B[39mfile_path, coh_type, coh_numb)\n\u001B[1;32m      4\u001B[0m output_var \u001B[38;5;241m=\u001B[39m load_inputs_outputs_variables(df)\n\u001B[1;32m      5\u001B[0m \u001B[38;5;28mprint\u001B[39m(output_var\u001B[38;5;241m.\u001B[39m\u001B[38;5;21m__len__\u001B[39m())\n",
      "\u001B[0;31mNameError\u001B[0m: name 'createDataFrameworkSuffix' is not defined"
     ]
    }
   ],
   "source": [
    "inputs, outputs = load_inputs_outputs_variables(df)\n",
    "print(\"Print out the input variables as the following:\")\n",
    "print(inputs, '\\n')\n",
    "print(\"Print out the output variables as the following:\")\n",
    "print(outputs, '\\n')\n",
    "print(len(inputs), len(outputs))"
   ],
   "metadata": {
    "collapsed": false,
    "pycharm": {
     "name": "#%%\n"
    }
   }
  },
  {
   "cell_type": "code",
   "execution_count": 257,
   "outputs": [
    {
     "data": {
      "text/plain": "Variable  Quantity-P&L  Retention ratio yearly-P&L  \\\n-12                NaN                         NaN   \n-11                NaN                         NaN   \n-10                NaN                         NaN   \n-9                 NaN                         NaN   \n-8                 NaN                         NaN   \n...                ...                         ...   \n 116               NaN                        0.95   \n 117               NaN                        0.95   \n 118               NaN                        0.95   \n 119               NaN                        0.95   \n 120               NaN                        0.95   \n\nVariable  Retention ratio monthly-P&L  Price increase-P&L  \\\n-12                               NaN                 NaN   \n-11                               NaN                 NaN   \n-10                               NaN                 NaN   \n-9                                NaN                 NaN   \n-8                                NaN                 NaN   \n...                               ...                 ...   \n 116                              NaN                 NaN   \n 117                              NaN                 NaN   \n 118                              NaN                 NaN   \n 119                              NaN                 NaN   \n 120                              NaN                 NaN   \n\nVariable  Premium per month-P&L  Risk ratio-P&L  Expense Ratio-P&L  \\\n-12                         NaN             NaN                NaN   \n-11                         NaN             NaN                NaN   \n-10                         NaN             NaN                NaN   \n-9                          NaN             NaN                NaN   \n-8                          NaN             NaN                NaN   \n...                         ...             ...                ...   \n 116                        NaN             NaN                NaN   \n 117                        NaN             NaN                NaN   \n 118                        NaN             NaN                NaN   \n 119                        NaN             NaN                NaN   \n 120                        NaN             NaN                NaN   \n\nVariable  Acquisition Ratio-P&L  Loss ratio-PreviousII  \\\n-12                         NaN                    NaN   \n-11                         NaN                    NaN   \n-10                         NaN                    NaN   \n-9                          NaN                    NaN   \n-8                          NaN                    NaN   \n...                         ...                    ...   \n 116                        NaN                    NaN   \n 117                        NaN                    NaN   \n 118                        NaN                    NaN   \n 119                        NaN                    NaN   \n 120                        NaN                    NaN   \n\nVariable  Time advancement in months loss-PreviousII  ...  \\\n-12                                              NaN  ...   \n-11                                              NaN  ...   \n-10                                              NaN  ...   \n-9                                               NaN  ...   \n-8                                               NaN  ...   \n...                                              ...  ...   \n 116                                             NaN  ...   \n 117                                             NaN  ...   \n 118                                             NaN  ...   \n 119                                             NaN  ...   \n 120                                             NaN  ...   \n\nVariable  Working capital financing-FinanceSide  Interest payment-FinanceSide  \\\n-12                                         NaN                           NaN   \n-11                                         NaN                           NaN   \n-10                                         NaN                           NaN   \n-9                                          NaN                           NaN   \n-8                                          NaN                           NaN   \n...                                         ...                           ...   \n 116                                        NaN                           NaN   \n 117                                        NaN                           NaN   \n 118                                        NaN                           NaN   \n 119                                        NaN                           NaN   \n 120                                        NaN                           NaN   \n\nVariable  Cash from investing activities-FinanceSide  \\\n-12                                              NaN   \n-11                                              NaN   \n-10                                              NaN   \n-9                                               NaN   \n-8                                               NaN   \n...                                              ...   \n 116                                             NaN   \n 117                                             NaN   \n 118                                             NaN   \n 119                                             NaN   \n 120                                             NaN   \n\nVariable  Risk loss 12 months-Assets  Expenses 12 months-Assets  \\\n-12                        350.68414                        NaN   \n-11                        350.68414                        NaN   \n-10                        350.68414                        NaN   \n-9                         350.68414                        NaN   \n-8                         350.68414                        NaN   \n...                              ...                        ...   \n 116                             NaN                        NaN   \n 117                             NaN                        NaN   \n 118                             NaN                        NaN   \n 119                             NaN                        NaN   \n 120                             NaN                        NaN   \n\nVariable  Acquisition 12 months-Assets  Forecast Loss 12 months-Liability  \\\n-12                                NaN                                NaN   \n-11                                NaN                                NaN   \n-10                                NaN                                NaN   \n-9                                 NaN                                NaN   \n-8                                 NaN                                NaN   \n...                                ...                                ...   \n 116                               NaN                                NaN   \n 117                               NaN                                NaN   \n 118                               NaN                                NaN   \n 119                               NaN                                NaN   \n 120                               NaN                                NaN   \n\nVariable  Loss requirement 12 months-Liability  \\\n-12                                        NaN   \n-11                                        NaN   \n-10                                        NaN   \n-9                                         NaN   \n-8                                         NaN   \n...                                        ...   \n 116                                       NaN   \n 117                                       NaN   \n 118                                       NaN   \n 119                                       NaN   \n 120                                       NaN   \n\nVariable  Forecast Expense 12 months-Liability  \\\n-12                                        NaN   \n-11                                        NaN   \n-10                                        NaN   \n-9                                         NaN   \n-8                                         NaN   \n...                                        ...   \n 116                                       NaN   \n 117                                       NaN   \n 118                                       NaN   \n 119                                       NaN   \n 120                                       NaN   \n\nVariable  Expense capital requirement absolute-Liability  \n-12                                                  NaN  \n-11                                                  NaN  \n-10                                                  NaN  \n-9                                                   NaN  \n-8                                                   NaN  \n...                                                  ...  \n 116                                                 NaN  \n 117                                                 NaN  \n 118                                                 NaN  \n 119                                                 NaN  \n 120                                                 NaN  \n\n[133 rows x 57 columns]",
      "text/html": "<div>\n<style scoped>\n    .dataframe tbody tr th:only-of-type {\n        vertical-align: middle;\n    }\n\n    .dataframe tbody tr th {\n        vertical-align: top;\n    }\n\n    .dataframe thead th {\n        text-align: right;\n    }\n</style>\n<table border=\"1\" class=\"dataframe\">\n  <thead>\n    <tr style=\"text-align: right;\">\n      <th>Variable</th>\n      <th>Quantity-P&amp;L</th>\n      <th>Retention ratio yearly-P&amp;L</th>\n      <th>Retention ratio monthly-P&amp;L</th>\n      <th>Price increase-P&amp;L</th>\n      <th>Premium per month-P&amp;L</th>\n      <th>Risk ratio-P&amp;L</th>\n      <th>Expense Ratio-P&amp;L</th>\n      <th>Acquisition Ratio-P&amp;L</th>\n      <th>Loss ratio-PreviousII</th>\n      <th>Time advancement in months loss-PreviousII</th>\n      <th>...</th>\n      <th>Working capital financing-FinanceSide</th>\n      <th>Interest payment-FinanceSide</th>\n      <th>Cash from investing activities-FinanceSide</th>\n      <th>Risk loss 12 months-Assets</th>\n      <th>Expenses 12 months-Assets</th>\n      <th>Acquisition 12 months-Assets</th>\n      <th>Forecast Loss 12 months-Liability</th>\n      <th>Loss requirement 12 months-Liability</th>\n      <th>Forecast Expense 12 months-Liability</th>\n      <th>Expense capital requirement absolute-Liability</th>\n    </tr>\n  </thead>\n  <tbody>\n    <tr>\n      <th>-12</th>\n      <td>NaN</td>\n      <td>NaN</td>\n      <td>NaN</td>\n      <td>NaN</td>\n      <td>NaN</td>\n      <td>NaN</td>\n      <td>NaN</td>\n      <td>NaN</td>\n      <td>NaN</td>\n      <td>NaN</td>\n      <td>...</td>\n      <td>NaN</td>\n      <td>NaN</td>\n      <td>NaN</td>\n      <td>350.68414</td>\n      <td>NaN</td>\n      <td>NaN</td>\n      <td>NaN</td>\n      <td>NaN</td>\n      <td>NaN</td>\n      <td>NaN</td>\n    </tr>\n    <tr>\n      <th>-11</th>\n      <td>NaN</td>\n      <td>NaN</td>\n      <td>NaN</td>\n      <td>NaN</td>\n      <td>NaN</td>\n      <td>NaN</td>\n      <td>NaN</td>\n      <td>NaN</td>\n      <td>NaN</td>\n      <td>NaN</td>\n      <td>...</td>\n      <td>NaN</td>\n      <td>NaN</td>\n      <td>NaN</td>\n      <td>350.68414</td>\n      <td>NaN</td>\n      <td>NaN</td>\n      <td>NaN</td>\n      <td>NaN</td>\n      <td>NaN</td>\n      <td>NaN</td>\n    </tr>\n    <tr>\n      <th>-10</th>\n      <td>NaN</td>\n      <td>NaN</td>\n      <td>NaN</td>\n      <td>NaN</td>\n      <td>NaN</td>\n      <td>NaN</td>\n      <td>NaN</td>\n      <td>NaN</td>\n      <td>NaN</td>\n      <td>NaN</td>\n      <td>...</td>\n      <td>NaN</td>\n      <td>NaN</td>\n      <td>NaN</td>\n      <td>350.68414</td>\n      <td>NaN</td>\n      <td>NaN</td>\n      <td>NaN</td>\n      <td>NaN</td>\n      <td>NaN</td>\n      <td>NaN</td>\n    </tr>\n    <tr>\n      <th>-9</th>\n      <td>NaN</td>\n      <td>NaN</td>\n      <td>NaN</td>\n      <td>NaN</td>\n      <td>NaN</td>\n      <td>NaN</td>\n      <td>NaN</td>\n      <td>NaN</td>\n      <td>NaN</td>\n      <td>NaN</td>\n      <td>...</td>\n      <td>NaN</td>\n      <td>NaN</td>\n      <td>NaN</td>\n      <td>350.68414</td>\n      <td>NaN</td>\n      <td>NaN</td>\n      <td>NaN</td>\n      <td>NaN</td>\n      <td>NaN</td>\n      <td>NaN</td>\n    </tr>\n    <tr>\n      <th>-8</th>\n      <td>NaN</td>\n      <td>NaN</td>\n      <td>NaN</td>\n      <td>NaN</td>\n      <td>NaN</td>\n      <td>NaN</td>\n      <td>NaN</td>\n      <td>NaN</td>\n      <td>NaN</td>\n      <td>NaN</td>\n      <td>...</td>\n      <td>NaN</td>\n      <td>NaN</td>\n      <td>NaN</td>\n      <td>350.68414</td>\n      <td>NaN</td>\n      <td>NaN</td>\n      <td>NaN</td>\n      <td>NaN</td>\n      <td>NaN</td>\n      <td>NaN</td>\n    </tr>\n    <tr>\n      <th>...</th>\n      <td>...</td>\n      <td>...</td>\n      <td>...</td>\n      <td>...</td>\n      <td>...</td>\n      <td>...</td>\n      <td>...</td>\n      <td>...</td>\n      <td>...</td>\n      <td>...</td>\n      <td>...</td>\n      <td>...</td>\n      <td>...</td>\n      <td>...</td>\n      <td>...</td>\n      <td>...</td>\n      <td>...</td>\n      <td>...</td>\n      <td>...</td>\n      <td>...</td>\n      <td>...</td>\n    </tr>\n    <tr>\n      <th>116</th>\n      <td>NaN</td>\n      <td>0.95</td>\n      <td>NaN</td>\n      <td>NaN</td>\n      <td>NaN</td>\n      <td>NaN</td>\n      <td>NaN</td>\n      <td>NaN</td>\n      <td>NaN</td>\n      <td>NaN</td>\n      <td>...</td>\n      <td>NaN</td>\n      <td>NaN</td>\n      <td>NaN</td>\n      <td>NaN</td>\n      <td>NaN</td>\n      <td>NaN</td>\n      <td>NaN</td>\n      <td>NaN</td>\n      <td>NaN</td>\n      <td>NaN</td>\n    </tr>\n    <tr>\n      <th>117</th>\n      <td>NaN</td>\n      <td>0.95</td>\n      <td>NaN</td>\n      <td>NaN</td>\n      <td>NaN</td>\n      <td>NaN</td>\n      <td>NaN</td>\n      <td>NaN</td>\n      <td>NaN</td>\n      <td>NaN</td>\n      <td>...</td>\n      <td>NaN</td>\n      <td>NaN</td>\n      <td>NaN</td>\n      <td>NaN</td>\n      <td>NaN</td>\n      <td>NaN</td>\n      <td>NaN</td>\n      <td>NaN</td>\n      <td>NaN</td>\n      <td>NaN</td>\n    </tr>\n    <tr>\n      <th>118</th>\n      <td>NaN</td>\n      <td>0.95</td>\n      <td>NaN</td>\n      <td>NaN</td>\n      <td>NaN</td>\n      <td>NaN</td>\n      <td>NaN</td>\n      <td>NaN</td>\n      <td>NaN</td>\n      <td>NaN</td>\n      <td>...</td>\n      <td>NaN</td>\n      <td>NaN</td>\n      <td>NaN</td>\n      <td>NaN</td>\n      <td>NaN</td>\n      <td>NaN</td>\n      <td>NaN</td>\n      <td>NaN</td>\n      <td>NaN</td>\n      <td>NaN</td>\n    </tr>\n    <tr>\n      <th>119</th>\n      <td>NaN</td>\n      <td>0.95</td>\n      <td>NaN</td>\n      <td>NaN</td>\n      <td>NaN</td>\n      <td>NaN</td>\n      <td>NaN</td>\n      <td>NaN</td>\n      <td>NaN</td>\n      <td>NaN</td>\n      <td>...</td>\n      <td>NaN</td>\n      <td>NaN</td>\n      <td>NaN</td>\n      <td>NaN</td>\n      <td>NaN</td>\n      <td>NaN</td>\n      <td>NaN</td>\n      <td>NaN</td>\n      <td>NaN</td>\n      <td>NaN</td>\n    </tr>\n    <tr>\n      <th>120</th>\n      <td>NaN</td>\n      <td>0.95</td>\n      <td>NaN</td>\n      <td>NaN</td>\n      <td>NaN</td>\n      <td>NaN</td>\n      <td>NaN</td>\n      <td>NaN</td>\n      <td>NaN</td>\n      <td>NaN</td>\n      <td>...</td>\n      <td>NaN</td>\n      <td>NaN</td>\n      <td>NaN</td>\n      <td>NaN</td>\n      <td>NaN</td>\n      <td>NaN</td>\n      <td>NaN</td>\n      <td>NaN</td>\n      <td>NaN</td>\n      <td>NaN</td>\n    </tr>\n  </tbody>\n</table>\n<p>133 rows × 57 columns</p>\n</div>"
     },
     "execution_count": 257,
     "metadata": {},
     "output_type": "execute_result"
    }
   ],
   "source": [
    "dataframe = df\n",
    "index_names = dataframe['Variable']\n",
    "dataframe = dataframe.filter(like=\"Value\", axis=1)\n",
    "dataframe.index = index_names\n",
    "df_input = dataframe.loc[inputs+outputs]\n",
    "lines =  np.arange(-12, 121, 1)\n",
    "df_input.columns = lines\n",
    "# df_outputs = dataframe.loc[outputs]\n",
    "df_input = df_input.transpose()\n",
    "df_input"
   ],
   "metadata": {
    "collapsed": false,
    "pycharm": {
     "name": "#%%\n"
    }
   }
  },
  {
   "cell_type": "code",
   "execution_count": 258,
   "outputs": [],
   "source": [
    "# Separate the input and output variables into different dataframe\n",
    "def dataframe_from_excel(dataframe, inputs, outputs):\n",
    "    index_names = dataframe['Variable']\n",
    "    dataframe = dataframe.filter(like=\"Value\", axis=1)\n",
    "    dataframe.index = index_names\n",
    "    df_data = dataframe.loc[inputs+outputs]\n",
    "    lines = np.arange(-12, 121, 1)\n",
    "    df_data.columns = lines\n",
    "    df_input = df_data.transpose()\n",
    "    return df_input"
   ],
   "metadata": {
    "collapsed": false,
    "pycharm": {
     "name": "#%%\n"
    }
   }
  },
  {
   "cell_type": "code",
   "execution_count": 191,
   "outputs": [
    {
     "data": {
      "text/plain": "    Unnamed: 0  Included in final report Input/Output Comment  \\\n0          NaN                       NaN          NaN     NaN   \n1          NaN                       NaN          NaN     NaN   \n2          1.0                       NaN        Input     NaN   \n3          2.0                       NaN        Input     NaN   \n4          3.0                       NaN        Input     NaN   \n..         ...                       ...          ...     ...   \n69         NaN                       NaN       Output     NaN   \n70         NaN                       NaN       Output     NaN   \n71         NaN                       NaN       Output     NaN   \n72         NaN                       NaN          NaN     NaN   \n73         NaN                       NaN          NaN     NaN   \n\n                       Category     Suffix  \\\n0                           NaN     global   \n1   Profit-Loss-Statement Total        NaN   \n2                           NaN        P&L   \n3                           NaN        P&L   \n4                           NaN        P&L   \n..                          ...        ...   \n69                          NaN  Liability   \n70                          NaN  Liability   \n71                          NaN  Liability   \n72                          NaN        NaN   \n73                          NaN        NaN   \n\n                                          Variable  Value  Value.1  Value.2  \\\n0                         Month since start-global  -12.0    -11.0    -10.0   \n1                                              NaN    NaN      NaN      NaN   \n2                                     Quantity-P&L    NaN      NaN      NaN   \n3                       Retention ratio yearly-P&L    NaN      NaN      NaN   \n4                      Retention ratio monthly-P&L    NaN      NaN      NaN   \n..                                             ...    ...      ...      ...   \n69            Loss requirement 12 months-Liability    NaN      NaN      NaN   \n70            Forecast Expense 12 months-Liability    NaN      NaN      NaN   \n71  Expense capital requirement absolute-Liability    NaN      NaN      NaN   \n72                                             NaN    NaN      NaN      NaN   \n73                                             NaN    NaN      NaN      NaN   \n\n    ...  Value.124  Value.125  Value.126  Value.127  Value.128  Value.129  \\\n0   ...      112.0      113.0      114.0      115.0      116.0      117.0   \n1   ...        NaN        NaN        NaN        NaN        NaN        NaN   \n2   ...        NaN        NaN        NaN        NaN        NaN        NaN   \n3   ...        NaN        NaN        NaN        NaN        NaN        NaN   \n4   ...        NaN        NaN        NaN        NaN        NaN        NaN   \n..  ...        ...        ...        ...        ...        ...        ...   \n69  ...        NaN        NaN        NaN        NaN        NaN        NaN   \n70  ...        NaN        NaN        NaN        NaN        NaN        NaN   \n71  ...        NaN        NaN        NaN        NaN        NaN        NaN   \n72  ...        NaN        NaN        NaN        NaN        NaN        NaN   \n73  ...        NaN        NaN        NaN        NaN        NaN        NaN   \n\n    Value.130  Value.131  Value.132  a  \n0       118.0      119.0      120.0  a  \n1         NaN        NaN        NaN  a  \n2         NaN        NaN        NaN  a  \n3         NaN        NaN        NaN  a  \n4         NaN        NaN        NaN  a  \n..        ...        ...        ... ..  \n69        NaN        NaN        NaN  a  \n70        NaN        NaN        NaN  a  \n71        NaN        NaN        NaN  a  \n72        NaN        NaN        NaN  a  \n73        NaN        NaN        NaN  a  \n\n[74 rows x 141 columns]",
      "text/html": "<div>\n<style scoped>\n    .dataframe tbody tr th:only-of-type {\n        vertical-align: middle;\n    }\n\n    .dataframe tbody tr th {\n        vertical-align: top;\n    }\n\n    .dataframe thead th {\n        text-align: right;\n    }\n</style>\n<table border=\"1\" class=\"dataframe\">\n  <thead>\n    <tr style=\"text-align: right;\">\n      <th></th>\n      <th>Unnamed: 0</th>\n      <th>Included in final report</th>\n      <th>Input/Output</th>\n      <th>Comment</th>\n      <th>Category</th>\n      <th>Suffix</th>\n      <th>Variable</th>\n      <th>Value</th>\n      <th>Value.1</th>\n      <th>Value.2</th>\n      <th>...</th>\n      <th>Value.124</th>\n      <th>Value.125</th>\n      <th>Value.126</th>\n      <th>Value.127</th>\n      <th>Value.128</th>\n      <th>Value.129</th>\n      <th>Value.130</th>\n      <th>Value.131</th>\n      <th>Value.132</th>\n      <th>a</th>\n    </tr>\n  </thead>\n  <tbody>\n    <tr>\n      <th>0</th>\n      <td>NaN</td>\n      <td>NaN</td>\n      <td>NaN</td>\n      <td>NaN</td>\n      <td>NaN</td>\n      <td>global</td>\n      <td>Month since start-global</td>\n      <td>-12.0</td>\n      <td>-11.0</td>\n      <td>-10.0</td>\n      <td>...</td>\n      <td>112.0</td>\n      <td>113.0</td>\n      <td>114.0</td>\n      <td>115.0</td>\n      <td>116.0</td>\n      <td>117.0</td>\n      <td>118.0</td>\n      <td>119.0</td>\n      <td>120.0</td>\n      <td>a</td>\n    </tr>\n    <tr>\n      <th>1</th>\n      <td>NaN</td>\n      <td>NaN</td>\n      <td>NaN</td>\n      <td>NaN</td>\n      <td>Profit-Loss-Statement Total</td>\n      <td>NaN</td>\n      <td>NaN</td>\n      <td>NaN</td>\n      <td>NaN</td>\n      <td>NaN</td>\n      <td>...</td>\n      <td>NaN</td>\n      <td>NaN</td>\n      <td>NaN</td>\n      <td>NaN</td>\n      <td>NaN</td>\n      <td>NaN</td>\n      <td>NaN</td>\n      <td>NaN</td>\n      <td>NaN</td>\n      <td>a</td>\n    </tr>\n    <tr>\n      <th>2</th>\n      <td>1.0</td>\n      <td>NaN</td>\n      <td>Input</td>\n      <td>NaN</td>\n      <td>NaN</td>\n      <td>P&amp;L</td>\n      <td>Quantity-P&amp;L</td>\n      <td>NaN</td>\n      <td>NaN</td>\n      <td>NaN</td>\n      <td>...</td>\n      <td>NaN</td>\n      <td>NaN</td>\n      <td>NaN</td>\n      <td>NaN</td>\n      <td>NaN</td>\n      <td>NaN</td>\n      <td>NaN</td>\n      <td>NaN</td>\n      <td>NaN</td>\n      <td>a</td>\n    </tr>\n    <tr>\n      <th>3</th>\n      <td>2.0</td>\n      <td>NaN</td>\n      <td>Input</td>\n      <td>NaN</td>\n      <td>NaN</td>\n      <td>P&amp;L</td>\n      <td>Retention ratio yearly-P&amp;L</td>\n      <td>NaN</td>\n      <td>NaN</td>\n      <td>NaN</td>\n      <td>...</td>\n      <td>NaN</td>\n      <td>NaN</td>\n      <td>NaN</td>\n      <td>NaN</td>\n      <td>NaN</td>\n      <td>NaN</td>\n      <td>NaN</td>\n      <td>NaN</td>\n      <td>NaN</td>\n      <td>a</td>\n    </tr>\n    <tr>\n      <th>4</th>\n      <td>3.0</td>\n      <td>NaN</td>\n      <td>Input</td>\n      <td>NaN</td>\n      <td>NaN</td>\n      <td>P&amp;L</td>\n      <td>Retention ratio monthly-P&amp;L</td>\n      <td>NaN</td>\n      <td>NaN</td>\n      <td>NaN</td>\n      <td>...</td>\n      <td>NaN</td>\n      <td>NaN</td>\n      <td>NaN</td>\n      <td>NaN</td>\n      <td>NaN</td>\n      <td>NaN</td>\n      <td>NaN</td>\n      <td>NaN</td>\n      <td>NaN</td>\n      <td>a</td>\n    </tr>\n    <tr>\n      <th>...</th>\n      <td>...</td>\n      <td>...</td>\n      <td>...</td>\n      <td>...</td>\n      <td>...</td>\n      <td>...</td>\n      <td>...</td>\n      <td>...</td>\n      <td>...</td>\n      <td>...</td>\n      <td>...</td>\n      <td>...</td>\n      <td>...</td>\n      <td>...</td>\n      <td>...</td>\n      <td>...</td>\n      <td>...</td>\n      <td>...</td>\n      <td>...</td>\n      <td>...</td>\n      <td>...</td>\n    </tr>\n    <tr>\n      <th>69</th>\n      <td>NaN</td>\n      <td>NaN</td>\n      <td>Output</td>\n      <td>NaN</td>\n      <td>NaN</td>\n      <td>Liability</td>\n      <td>Loss requirement 12 months-Liability</td>\n      <td>NaN</td>\n      <td>NaN</td>\n      <td>NaN</td>\n      <td>...</td>\n      <td>NaN</td>\n      <td>NaN</td>\n      <td>NaN</td>\n      <td>NaN</td>\n      <td>NaN</td>\n      <td>NaN</td>\n      <td>NaN</td>\n      <td>NaN</td>\n      <td>NaN</td>\n      <td>a</td>\n    </tr>\n    <tr>\n      <th>70</th>\n      <td>NaN</td>\n      <td>NaN</td>\n      <td>Output</td>\n      <td>NaN</td>\n      <td>NaN</td>\n      <td>Liability</td>\n      <td>Forecast Expense 12 months-Liability</td>\n      <td>NaN</td>\n      <td>NaN</td>\n      <td>NaN</td>\n      <td>...</td>\n      <td>NaN</td>\n      <td>NaN</td>\n      <td>NaN</td>\n      <td>NaN</td>\n      <td>NaN</td>\n      <td>NaN</td>\n      <td>NaN</td>\n      <td>NaN</td>\n      <td>NaN</td>\n      <td>a</td>\n    </tr>\n    <tr>\n      <th>71</th>\n      <td>NaN</td>\n      <td>NaN</td>\n      <td>Output</td>\n      <td>NaN</td>\n      <td>NaN</td>\n      <td>Liability</td>\n      <td>Expense capital requirement absolute-Liability</td>\n      <td>NaN</td>\n      <td>NaN</td>\n      <td>NaN</td>\n      <td>...</td>\n      <td>NaN</td>\n      <td>NaN</td>\n      <td>NaN</td>\n      <td>NaN</td>\n      <td>NaN</td>\n      <td>NaN</td>\n      <td>NaN</td>\n      <td>NaN</td>\n      <td>NaN</td>\n      <td>a</td>\n    </tr>\n    <tr>\n      <th>72</th>\n      <td>NaN</td>\n      <td>NaN</td>\n      <td>NaN</td>\n      <td>NaN</td>\n      <td>NaN</td>\n      <td>NaN</td>\n      <td>NaN</td>\n      <td>NaN</td>\n      <td>NaN</td>\n      <td>NaN</td>\n      <td>...</td>\n      <td>NaN</td>\n      <td>NaN</td>\n      <td>NaN</td>\n      <td>NaN</td>\n      <td>NaN</td>\n      <td>NaN</td>\n      <td>NaN</td>\n      <td>NaN</td>\n      <td>NaN</td>\n      <td>a</td>\n    </tr>\n    <tr>\n      <th>73</th>\n      <td>NaN</td>\n      <td>NaN</td>\n      <td>NaN</td>\n      <td>NaN</td>\n      <td>NaN</td>\n      <td>NaN</td>\n      <td>NaN</td>\n      <td>NaN</td>\n      <td>NaN</td>\n      <td>NaN</td>\n      <td>...</td>\n      <td>NaN</td>\n      <td>NaN</td>\n      <td>NaN</td>\n      <td>NaN</td>\n      <td>NaN</td>\n      <td>NaN</td>\n      <td>NaN</td>\n      <td>NaN</td>\n      <td>NaN</td>\n      <td>a</td>\n    </tr>\n  </tbody>\n</table>\n<p>74 rows × 141 columns</p>\n</div>"
     },
     "execution_count": 191,
     "metadata": {},
     "output_type": "execute_result"
    }
   ],
   "source": [
    "dataframe = df\n",
    "index_names = dataframe['Variable']\n",
    "# dataframe = dataframe.filter(like=\"Value\", axis=1).transpose()\n",
    "# dataframe.index = index_names\n",
    "dataframe"
   ],
   "metadata": {
    "collapsed": false,
    "pycharm": {
     "name": "#%%\n"
    }
   }
  },
  {
   "cell_type": "code",
   "execution_count": 60,
   "outputs": [
    {
     "name": "stderr",
     "output_type": "stream",
     "text": [
      "[autoreload of functions failed: Traceback (most recent call last):\n",
      "  File \"/Users/cosmicthermo/miniconda3/envs/pytorchenv/lib/python3.8/site-packages/IPython/extensions/autoreload.py\", line 257, in check\n",
      "    superreload(m, reload, self.old_objects)\n",
      "  File \"/Users/cosmicthermo/miniconda3/envs/pytorchenv/lib/python3.8/site-packages/IPython/extensions/autoreload.py\", line 455, in superreload\n",
      "    module = reload(module)\n",
      "  File \"/Users/cosmicthermo/miniconda3/envs/pytorchenv/lib/python3.8/importlib/__init__.py\", line 169, in reload\n",
      "    _bootstrap._exec(spec, module)\n",
      "  File \"<frozen importlib._bootstrap>\", line 604, in _exec\n",
      "  File \"<frozen importlib._bootstrap_external>\", line 839, in exec_module\n",
      "  File \"<frozen importlib._bootstrap_external>\", line 976, in get_code\n",
      "  File \"<frozen importlib._bootstrap_external>\", line 906, in source_to_code\n",
      "  File \"<frozen importlib._bootstrap>\", line 219, in _call_with_frames_removed\n",
      "  File \"/Users/cosmicthermo/Desktop/Afairi-Work/Github/PL-Simulation/functions.py\", line 215\n",
      "    def update(self):\n",
      "    ^\n",
      "IndentationError: expected an indented block\n",
      "]\n"
     ]
    },
    {
     "ename": "NameError",
     "evalue": "name 'dataframe_from_excel' is not defined",
     "output_type": "error",
     "traceback": [
      "\u001B[0;31m---------------------------------------------------------------------------\u001B[0m",
      "\u001B[0;31mNameError\u001B[0m                                 Traceback (most recent call last)",
      "Input \u001B[0;32mIn [60]\u001B[0m, in \u001B[0;36m<cell line: 1>\u001B[0;34m()\u001B[0m\n\u001B[0;32m----> 1\u001B[0m \u001B[38;5;28minput\u001B[39m \u001B[38;5;241m=\u001B[39m \u001B[43mdataframe_from_excel\u001B[49m(df, inputs, outputs)\n\u001B[1;32m      2\u001B[0m \u001B[38;5;28minput\u001B[39m\u001B[38;5;241m.\u001B[39mloc[:\u001B[38;5;241m1\u001B[39m]\n",
      "\u001B[0;31mNameError\u001B[0m: name 'dataframe_from_excel' is not defined"
     ]
    }
   ],
   "source": [
    "input = dataframe_from_excel(df, inputs, outputs)\n",
    "input.loc[:1]"
   ],
   "metadata": {
    "collapsed": false,
    "pycharm": {
     "name": "#%%\n"
    }
   }
  },
  {
   "cell_type": "code",
   "execution_count": 211,
   "outputs": [
    {
     "name": "stdout",
     "output_type": "stream",
     "text": [
      "Print out the input variables as the following:\n",
      "['Quantity-P&L', 'Retention ratio yearly-P&L', 'Retention ratio monthly-P&L', 'Price increase-P&L', 'Premium per month-P&L', 'Risk ratio-P&L', 'Expense Ratio-P&L', 'Acquisition Ratio-P&L', 'Loss ratio-PreviousII', 'Time advancement in months loss-PreviousII', 'Expense in advance ratio-PreviousII', 'Time advancement in months expenses-PreviousII', 'Acquisition in advance ratio-PreviousII', 'Time advancement in months acquisition-PreviousII', 'Loss requirement absolute-NowCast', 'Expense capital requirement absolute-NowCast', 'Regulatory requirement ratio-InvestSide', 'Time advancement in months-InvestSide', 'Working capital financing ratio-FinanceSide', 'Interest rate-FinanceSide'] \n",
      "\n",
      "Print out the output variables as the following:\n",
      "['Premium, Volume-P&L', 'Net revenue-P&L', 'Loss-P&L', 'Expenses-P&L', 'Net income pre-acquisition cost-P&L', 'Acquisition Costs-P&L', 'Net income-P&L', 'Loss in advance-PreviousII', 'Expenses in advance-PreviousII', 'Acquisition Costs in advance-PreviousII', 'Loss-NowCast', 'Expenses-NowCast', 'Acquisition-NowCast', 'Net income-NowCast', 'Revenue-CashFlow', 'Loss from contious operations-CashFlow', 'Expenses from continuous operations-CashFlow', 'Earnings-CashFlow', 'Change from non-cash to cash-OperateSide', 'Cash from operating activities-OperateSide', 'Working capital acquisition1-InvestSide', 'Working capital expenses1-InvestSide', 'Working capital loss1-InvestSide', 'Research and Development1-InvestSide', 'Business-expansion (market entry cost)1-InvestSide', 'Cash from investing activities1-InvestSide', 'Regulatory requirement absolute-InvestSide', 'Working capital financing-FinanceSide', 'Interest payment-FinanceSide', 'Cash from investing activities-FinanceSide', 'Risk loss 12 months-Assets', 'Expenses 12 months-Assets', 'Acquisition 12 months-Assets', 'Forecast Loss 12 months-Liability', 'Loss requirement 12 months-Liability', 'Forecast Expense 12 months-Liability', 'Expense capital requirement absolute-Liability'] \n",
      "\n",
      "20 37\n"
     ]
    }
   ],
   "source": [
    "inputs, outputs = load_inputs_outputs_variables(df)\n",
    "print(\"Print out the input variables as the following:\")\n",
    "print(inputs, '\\n')\n",
    "print(\"Print out the output variables as the following:\")\n",
    "print(outputs, '\\n')\n",
    "print(len(inputs), len(outputs))"
   ],
   "metadata": {
    "collapsed": false,
    "pycharm": {
     "name": "#%%\n"
    }
   }
  },
  {
   "cell_type": "code",
   "execution_count": 260,
   "outputs": [
    {
     "name": "stdout",
     "output_type": "stream",
     "text": [
      "True\n"
     ]
    }
   ],
   "source": [
    "print(not np.isnan(input.loc[0]['Retention ratio yearly-P&L']))"
   ],
   "metadata": {
    "collapsed": false,
    "pycharm": {
     "name": "#%%\n"
    }
   }
  },
  {
   "cell_type": "code",
   "execution_count": 318,
   "outputs": [
    {
     "data": {
      "text/plain": "                  Index     1     2   3\n0           Cohort_Type    UW    PI NaN\n1          Cohort_Group    G1    G1 NaN\n2        start_quantity     5     5 NaN\n3           start_month     0     2 NaN\n4               premium   100   100 NaN\n5  price_increase_ratio  0.05  0.05 NaN\n6     acquisition_ratio  0.15  0.15 NaN\n7             inflation  1.02  1.03 NaN",
      "text/html": "<div>\n<style scoped>\n    .dataframe tbody tr th:only-of-type {\n        vertical-align: middle;\n    }\n\n    .dataframe tbody tr th {\n        vertical-align: top;\n    }\n\n    .dataframe thead th {\n        text-align: right;\n    }\n</style>\n<table border=\"1\" class=\"dataframe\">\n  <thead>\n    <tr style=\"text-align: right;\">\n      <th></th>\n      <th>Index</th>\n      <th>1</th>\n      <th>2</th>\n      <th>3</th>\n    </tr>\n  </thead>\n  <tbody>\n    <tr>\n      <th>0</th>\n      <td>Cohort_Type</td>\n      <td>UW</td>\n      <td>PI</td>\n      <td>NaN</td>\n    </tr>\n    <tr>\n      <th>1</th>\n      <td>Cohort_Group</td>\n      <td>G1</td>\n      <td>G1</td>\n      <td>NaN</td>\n    </tr>\n    <tr>\n      <th>2</th>\n      <td>start_quantity</td>\n      <td>5</td>\n      <td>5</td>\n      <td>NaN</td>\n    </tr>\n    <tr>\n      <th>3</th>\n      <td>start_month</td>\n      <td>0</td>\n      <td>2</td>\n      <td>NaN</td>\n    </tr>\n    <tr>\n      <th>4</th>\n      <td>premium</td>\n      <td>100</td>\n      <td>100</td>\n      <td>NaN</td>\n    </tr>\n    <tr>\n      <th>5</th>\n      <td>price_increase_ratio</td>\n      <td>0.05</td>\n      <td>0.05</td>\n      <td>NaN</td>\n    </tr>\n    <tr>\n      <th>6</th>\n      <td>acquisition_ratio</td>\n      <td>0.15</td>\n      <td>0.15</td>\n      <td>NaN</td>\n    </tr>\n    <tr>\n      <th>7</th>\n      <td>inflation</td>\n      <td>1.02</td>\n      <td>1.03</td>\n      <td>NaN</td>\n    </tr>\n  </tbody>\n</table>\n</div>"
     },
     "execution_count": 318,
     "metadata": {},
     "output_type": "execute_result"
    }
   ],
   "source": [
    "df = pd.read_excel(cf.file_path, sheet_name=cf.global_sheet_name)\n",
    "# indexname = df['Index']\n",
    "# df.index =indexname\n",
    "# di = df.to_dict()\n",
    "# # di[1]['Cohort_Type']\n",
    "# # di['Index']\n",
    "# di[1]\n",
    "df"
   ],
   "metadata": {
    "collapsed": false,
    "pycharm": {
     "name": "#%%\n"
    }
   }
  },
  {
   "cell_type": "code",
   "execution_count": 313,
   "outputs": [],
   "source": [
    "def get_global_data(filepath):\n",
    "    # TODO:Input the global data from sheet Global Input\n",
    "    df = pd.read_excel(cf.file_path, sheet_name=cf.global_sheet_name)\n",
    "    indexname = df['Index']\n",
    "    df.index =indexname\n",
    "    dict_data = df.to_dict()\n",
    "    return dict_data"
   ],
   "metadata": {
    "collapsed": false,
    "pycharm": {
     "name": "#%%\n"
    }
   }
  },
  {
   "cell_type": "code",
   "execution_count": 265,
   "outputs": [
    {
     "data": {
      "text/plain": "Variable\nQuantity-P&L                                            1.000000\nRetention ratio yearly-P&L                              0.800000\nRetention ratio monthly-P&L                             0.983333\nPrice increase-P&L                                           NaN\nPremium per month-P&L                                 100.000000\nRisk ratio-P&L                                          0.800000\nExpense Ratio-P&L                                       0.050000\nAcquisition Ratio-P&L                                   0.150000\nLoss ratio-PreviousII                                   0.600000\nTime advancement in months loss-PreviousII            -12.000000\nExpense in advance ratio-PreviousII                     0.600000\nTime advancement in months expenses-PreviousII         -6.000000\nAcquisition in advance ratio-PreviousII                 0.600000\nTime advancement in months acquisition-PreviousII      -3.000000\nLoss requirement absolute-NowCast                     350.684140\nExpense capital requirement absolute-NowCast           21.917759\nRegulatory requirement ratio-InvestSide                 0.500000\nTime advancement in months-InvestSide                 -12.000000\nWorking capital financing ratio-FinanceSide             0.000000\nInterest rate-FinanceSide                               0.050000\nPremium, Volume-P&L                                   100.000000\nNet revenue-P&L                                       100.000000\nLoss-P&L                                               80.000000\nExpenses-P&L                                            5.000000\nNet income pre-acquisition cost-P&L                    15.000000\nAcquisition Costs-P&L                                 180.000000\nNet income-P&L                                       -165.000000\nLoss in advance-PreviousII                              8.655041\nExpenses in advance-PreviousII                         21.917759\nAcquisition Costs in advance-PreviousII               108.000000\nLoss-NowCast                                           71.344959\nExpenses-NowCast                                        5.000000\nAcquisition-NowCast                                    72.000000\nNet income-NowCast                                     23.655041\nRevenue-CashFlow                                      100.000000\nLoss from contious operations-CashFlow                 71.344959\nExpenses from continuous operations-CashFlow            5.000000\nEarnings-CashFlow                                      23.655041\nChange from non-cash to cash-OperateSide                8.655041\nCash from operating activities-OperateSide             23.655041\nWorking capital acquisition1-InvestSide                      NaN\nWorking capital expenses1-InvestSide                         NaN\nWorking capital loss1-InvestSide                             NaN\nResearch and Development1-InvestSide                    0.000000\nBusiness-expansion (market entry cost)1-InvestSide      0.000000\nCash from investing activities1-InvestSide              0.000000\nRegulatory requirement absolute-InvestSide            411.945413\nWorking capital financing-FinanceSide                   0.000000\nInterest payment-FinanceSide                            0.000000\nCash from investing activities-FinanceSide              0.000000\nRisk loss 12 months-Assets                            350.684140\nExpenses 12 months-Assets                               0.000000\nAcquisition 12 months-Assets                            0.000000\nForecast Loss 12 months-Liability                     876.710351\nLoss requirement 12 months-Liability                  350.684140\nForecast Expense 12 months-Liability                   54.794397\nExpense capital requirement absolute-Liability         21.917759\nName: 0, dtype: float64"
     },
     "execution_count": 265,
     "metadata": {},
     "output_type": "execute_result"
    }
   ],
   "source": [
    "curr = input.loc[0]\n",
    "curr['Quantity-P&L']\n",
    "curr"
   ],
   "metadata": {
    "collapsed": false,
    "pycharm": {
     "name": "#%%\n"
    }
   }
  },
  {
   "cell_type": "markdown",
   "source": [
    "### test simulation function"
   ],
   "metadata": {
    "collapsed": false
   }
  },
  {
   "cell_type": "code",
   "execution_count": 97,
   "outputs": [
    {
     "ename": "ValueError",
     "evalue": "Length mismatch: Expected axis has 145 elements, new values have 133 elements",
     "output_type": "error",
     "traceback": [
      "\u001B[0;31m---------------------------------------------------------------------------\u001B[0m",
      "\u001B[0;31mValueError\u001B[0m                                Traceback (most recent call last)",
      "Input \u001B[0;32mIn [97]\u001B[0m, in \u001B[0;36m<cell line: 3>\u001B[0;34m()\u001B[0m\n\u001B[1;32m      1\u001B[0m \u001B[38;5;66;03m# from functions import *\u001B[39;00m\n\u001B[1;32m      2\u001B[0m data \u001B[38;5;241m=\u001B[39m CustomData(config\u001B[38;5;241m.\u001B[39mfile_path,\u001B[38;5;124m'\u001B[39m\u001B[38;5;124mUW\u001B[39m\u001B[38;5;124m'\u001B[39m, \u001B[38;5;124m'\u001B[39m\u001B[38;5;124mG1\u001B[39m\u001B[38;5;124m'\u001B[39m)\n\u001B[0;32m----> 3\u001B[0m df_input \u001B[38;5;241m=\u001B[39m \u001B[43mdata\u001B[49m\u001B[38;5;241;43m.\u001B[39;49m\u001B[43mdataframe_from_excel\u001B[49m\u001B[43m(\u001B[49m\u001B[43m)\u001B[49m\n\u001B[1;32m      4\u001B[0m list_var \u001B[38;5;241m=\u001B[39m data\u001B[38;5;241m.\u001B[39mload_list_outputs_variables()\n",
      "File \u001B[0;32m~/Desktop/Afairi-Work/Github/PL-Simulation/functions.py:56\u001B[0m, in \u001B[0;36mdataframe_from_excel\u001B[0;34m(self)\u001B[0m\n\u001B[1;32m     54\u001B[0m lines \u001B[38;5;241m=\u001B[39m np\u001B[38;5;241m.\u001B[39marange(\u001B[38;5;241m-\u001B[39m\u001B[38;5;241m12\u001B[39m, \u001B[38;5;241m121\u001B[39m, \u001B[38;5;241m1\u001B[39m)\n\u001B[1;32m     55\u001B[0m df_data\u001B[38;5;241m.\u001B[39mcolumns \u001B[38;5;241m=\u001B[39m lines\n\u001B[0;32m---> 56\u001B[0m df_input \u001B[38;5;241m=\u001B[39m df_data\u001B[38;5;241m.\u001B[39mtranspose()\n\u001B[1;32m     57\u001B[0m \u001B[38;5;28;01mreturn\u001B[39;00m df_input\n",
      "File \u001B[0;32m~/miniconda3/envs/pytorchenv/lib/python3.8/site-packages/pandas/core/generic.py:5588\u001B[0m, in \u001B[0;36mNDFrame.__setattr__\u001B[0;34m(self, name, value)\u001B[0m\n\u001B[1;32m   5586\u001B[0m \u001B[38;5;28;01mtry\u001B[39;00m:\n\u001B[1;32m   5587\u001B[0m     \u001B[38;5;28mobject\u001B[39m\u001B[38;5;241m.\u001B[39m\u001B[38;5;21m__getattribute__\u001B[39m(\u001B[38;5;28mself\u001B[39m, name)\n\u001B[0;32m-> 5588\u001B[0m     \u001B[38;5;28;01mreturn\u001B[39;00m \u001B[38;5;28;43mobject\u001B[39;49m\u001B[38;5;241;43m.\u001B[39;49m\u001B[38;5;21;43m__setattr__\u001B[39;49m\u001B[43m(\u001B[49m\u001B[38;5;28;43mself\u001B[39;49m\u001B[43m,\u001B[49m\u001B[43m \u001B[49m\u001B[43mname\u001B[49m\u001B[43m,\u001B[49m\u001B[43m \u001B[49m\u001B[43mvalue\u001B[49m\u001B[43m)\u001B[49m\n\u001B[1;32m   5589\u001B[0m \u001B[38;5;28;01mexcept\u001B[39;00m \u001B[38;5;167;01mAttributeError\u001B[39;00m:\n\u001B[1;32m   5590\u001B[0m     \u001B[38;5;28;01mpass\u001B[39;00m\n",
      "File \u001B[0;32m~/miniconda3/envs/pytorchenv/lib/python3.8/site-packages/pandas/_libs/properties.pyx:70\u001B[0m, in \u001B[0;36mpandas._libs.properties.AxisProperty.__set__\u001B[0;34m()\u001B[0m\n",
      "File \u001B[0;32m~/miniconda3/envs/pytorchenv/lib/python3.8/site-packages/pandas/core/generic.py:769\u001B[0m, in \u001B[0;36mNDFrame._set_axis\u001B[0;34m(self, axis, labels)\u001B[0m\n\u001B[1;32m    767\u001B[0m \u001B[38;5;28;01mdef\u001B[39;00m \u001B[38;5;21m_set_axis\u001B[39m(\u001B[38;5;28mself\u001B[39m, axis: \u001B[38;5;28mint\u001B[39m, labels: Index) \u001B[38;5;241m-\u001B[39m\u001B[38;5;241m>\u001B[39m \u001B[38;5;28;01mNone\u001B[39;00m:\n\u001B[1;32m    768\u001B[0m     labels \u001B[38;5;241m=\u001B[39m ensure_index(labels)\n\u001B[0;32m--> 769\u001B[0m     \u001B[38;5;28;43mself\u001B[39;49m\u001B[38;5;241;43m.\u001B[39;49m\u001B[43m_mgr\u001B[49m\u001B[38;5;241;43m.\u001B[39;49m\u001B[43mset_axis\u001B[49m\u001B[43m(\u001B[49m\u001B[43maxis\u001B[49m\u001B[43m,\u001B[49m\u001B[43m \u001B[49m\u001B[43mlabels\u001B[49m\u001B[43m)\u001B[49m\n\u001B[1;32m    770\u001B[0m     \u001B[38;5;28mself\u001B[39m\u001B[38;5;241m.\u001B[39m_clear_item_cache()\n",
      "File \u001B[0;32m~/miniconda3/envs/pytorchenv/lib/python3.8/site-packages/pandas/core/internals/managers.py:214\u001B[0m, in \u001B[0;36mBaseBlockManager.set_axis\u001B[0;34m(self, axis, new_labels)\u001B[0m\n\u001B[1;32m    212\u001B[0m \u001B[38;5;28;01mdef\u001B[39;00m \u001B[38;5;21mset_axis\u001B[39m(\u001B[38;5;28mself\u001B[39m, axis: \u001B[38;5;28mint\u001B[39m, new_labels: Index) \u001B[38;5;241m-\u001B[39m\u001B[38;5;241m>\u001B[39m \u001B[38;5;28;01mNone\u001B[39;00m:\n\u001B[1;32m    213\u001B[0m     \u001B[38;5;66;03m# Caller is responsible for ensuring we have an Index object.\u001B[39;00m\n\u001B[0;32m--> 214\u001B[0m     \u001B[38;5;28;43mself\u001B[39;49m\u001B[38;5;241;43m.\u001B[39;49m\u001B[43m_validate_set_axis\u001B[49m\u001B[43m(\u001B[49m\u001B[43maxis\u001B[49m\u001B[43m,\u001B[49m\u001B[43m \u001B[49m\u001B[43mnew_labels\u001B[49m\u001B[43m)\u001B[49m\n\u001B[1;32m    215\u001B[0m     \u001B[38;5;28mself\u001B[39m\u001B[38;5;241m.\u001B[39maxes[axis] \u001B[38;5;241m=\u001B[39m new_labels\n",
      "File \u001B[0;32m~/miniconda3/envs/pytorchenv/lib/python3.8/site-packages/pandas/core/internals/base.py:69\u001B[0m, in \u001B[0;36mDataManager._validate_set_axis\u001B[0;34m(self, axis, new_labels)\u001B[0m\n\u001B[1;32m     66\u001B[0m     \u001B[38;5;28;01mpass\u001B[39;00m\n\u001B[1;32m     68\u001B[0m \u001B[38;5;28;01melif\u001B[39;00m new_len \u001B[38;5;241m!=\u001B[39m old_len:\n\u001B[0;32m---> 69\u001B[0m     \u001B[38;5;28;01mraise\u001B[39;00m \u001B[38;5;167;01mValueError\u001B[39;00m(\n\u001B[1;32m     70\u001B[0m         \u001B[38;5;124mf\u001B[39m\u001B[38;5;124m\"\u001B[39m\u001B[38;5;124mLength mismatch: Expected axis has \u001B[39m\u001B[38;5;132;01m{\u001B[39;00mold_len\u001B[38;5;132;01m}\u001B[39;00m\u001B[38;5;124m elements, new \u001B[39m\u001B[38;5;124m\"\u001B[39m\n\u001B[1;32m     71\u001B[0m         \u001B[38;5;124mf\u001B[39m\u001B[38;5;124m\"\u001B[39m\u001B[38;5;124mvalues have \u001B[39m\u001B[38;5;132;01m{\u001B[39;00mnew_len\u001B[38;5;132;01m}\u001B[39;00m\u001B[38;5;124m elements\u001B[39m\u001B[38;5;124m\"\u001B[39m\n\u001B[1;32m     72\u001B[0m     )\n",
      "\u001B[0;31mValueError\u001B[0m: Length mismatch: Expected axis has 145 elements, new values have 133 elements"
     ]
    }
   ],
   "source": [
    "# from functions import *\n",
    "data = CustomData(config.file_path,'UW', 'G1')\n",
    "df_input = data.dataframe_from_excel()\n",
    "list_var = data.load_list_outputs_variables()\n",
    "# df_input.loc[0]"
   ],
   "metadata": {
    "collapsed": false,
    "pycharm": {
     "name": "#%%\n"
    }
   }
  },
  {
   "cell_type": "code",
   "execution_count": 123,
   "outputs": [],
   "source": [
    "def get_global_data(filepath):\n",
    "    df = pd.read_excel(filepath, sheet_name=config.global_sheet_name)\n",
    "    index_name = df['Index']\n",
    "    df.index = index_name\n",
    "    df = df.drop('Index', axis=1)\n",
    "    dict_data = df.to_dict()\n",
    "    return dict_data"
   ],
   "metadata": {
    "collapsed": false,
    "pycharm": {
     "name": "#%%\n"
    }
   }
  },
  {
   "cell_type": "code",
   "execution_count": 124,
   "outputs": [
    {
     "data": {
      "text/plain": "['Cohort UW G1', 'Cohort PI G1']"
     },
     "execution_count": 124,
     "metadata": {},
     "output_type": "execute_result"
    }
   ],
   "source": [
    "data_dic = get_global_data(config.file_path)\n",
    "title_string = []\n",
    "for item in data_dic:\n",
    "    title_string.append(f'Cohort {data_dic[item][\"Cohort_Type\"]} {data_dic[item][\"Cohort_Group\"]}')\n",
    "title_string"
   ],
   "metadata": {
    "collapsed": false,
    "pycharm": {
     "name": "#%%\n"
    }
   }
  },
  {
   "cell_type": "code",
   "execution_count": 134,
   "outputs": [],
   "source": [
    "def get_global_data(filepath):\n",
    "    df = pd.read_excel(filepath, sheet_name=config.global_sheet_name)\n",
    "    index_name = df['Index']\n",
    "    df.index = index_name\n",
    "    df = df.drop('Index', axis=1)\n",
    "    dict_data = df.to_dict()\n",
    "    return dict_data"
   ],
   "metadata": {
    "collapsed": false,
    "pycharm": {
     "name": "#%%\n"
    }
   }
  },
  {
   "cell_type": "code",
   "execution_count": 138,
   "outputs": [
    {
     "name": "stdout",
     "output_type": "stream",
     "text": [
      "1\n",
      "{'Cohort_Type': 'UW', 'Cohort_Group': 'G1', 'start_quantity': 5, 'start_month': 0, 'premium': 100, 'price_increase_ratio': 1.05, 'acquisition_ratio': 0.15, 'inflation': 1.02}\n",
      "2\n",
      "{'Cohort_Type': 'PI', 'Cohort_Group': 'G1', 'start_quantity': 5, 'start_month': 2, 'premium': 100, 'price_increase_ratio': 1.05, 'acquisition_ratio': 0.15, 'inflation': 1.03}\n"
     ]
    }
   ],
   "source": [
    "data_dic = get_global_data(config.file_path)\n",
    "for dt in data_dic:\n",
    "    print(dt)\n",
    "    print(data_dic[dt])\n",
    "    # print(data_dic[dt]['start_month'])"
   ],
   "metadata": {
    "collapsed": false,
    "pycharm": {
     "name": "#%%\n"
    }
   }
  },
  {
   "cell_type": "code",
   "execution_count": 141,
   "outputs": [],
   "source": [
    "class CustomData:\n",
    "    def __init__(self, filepath, sheetname):\n",
    "        self.sheetname = sheetname\n",
    "        self.filepath = filepath\n",
    "\n",
    "    def createDataFrameworkSuffix(self):\n",
    "        df = pd.read_excel(self.filepath, sheet_name=self.sheetname, skiprows=1)\n",
    "        df['Variable'] = df['Variable'] + '-' + df['Suffix']\n",
    "        return df\n",
    "\n",
    "    def give_outputs_variables(self):\n",
    "        df = self.createDataFrameworkSuffix()\n",
    "        outputs = list(df.loc[df['Input/Output'] == 'var', 'Variable'])\n",
    "        return outputs\n",
    "\n",
    "    def load_list_outputs_variables(self):\n",
    "        df = self.createDataFrameworkSuffix()\n",
    "        outputs1 = list(df.loc[df['Index'] == 'pl', 'Variable'])\n",
    "        outputs2 = list(df.loc[df['Index'] == 1, 'Variable'])\n",
    "        outputs3 = list(df.loc[df['Index'] == 2, 'Variable'])\n",
    "        return [outputs1, outputs2, outputs3]\n",
    "\n",
    "\n",
    "    # Separate the input and output variables into different dataframe\n",
    "    def dataframe_from_excel(self):\n",
    "        dataframe = self.createDataFrameworkSuffix()\n",
    "        outputs = self.give_outputs_variables()\n",
    "        index_names = dataframe['Variable']\n",
    "        dataframe = dataframe.filter(like=\"Value\", axis=1)\n",
    "        dataframe.index = index_names\n",
    "        df_data = dataframe.loc[outputs]\n",
    "        lines = np.arange(-12, 133, 1)\n",
    "        df_data.columns = lines\n",
    "        df_input = df_data.transpose()\n",
    "        return df_input\n",
    "\n",
    "def get_list_input_data_files(glob_data, file_path):\n",
    "    list_title , list_data = [], [0]\n",
    "    for item in glob_data:\n",
    "        list_title.append(f'Cohort {glob_data[item][\"Cohort_Type\"]} {glob_data[item][\"Cohort_Group\"]}')\n",
    "\n",
    "    for title in list_title:\n",
    "        data_getter = CustomData(file_path, sheetname=title)\n",
    "        list_data.append(data_getter.dataframe_from_excel())\n",
    "    return list_data"
   ],
   "metadata": {
    "collapsed": false,
    "pycharm": {
     "name": "#%%\n"
    }
   }
  },
  {
   "cell_type": "code",
   "execution_count": 143,
   "outputs": [
    {
     "name": "stdout",
     "output_type": "stream",
     "text": [
      "3\n",
      "0\n",
      "Variable Quantity-P&L Retention ratio yearly-P&L Retention ratio monthly-P&L  \\\n",
      "-12               NaN                        NaN                         NaN   \n",
      "-11               NaN                        NaN                         NaN   \n",
      "-10               NaN                        NaN                         NaN   \n",
      "-9                NaN                        NaN                         NaN   \n",
      "-8                NaN                        NaN                         NaN   \n",
      "...               ...                        ...                         ...   \n",
      " 128              NaN                        NaN                         NaN   \n",
      " 129              NaN                        NaN                         NaN   \n",
      " 130              NaN                        NaN                         NaN   \n",
      " 131              NaN                        NaN                         NaN   \n",
      " 132              NaN                        NaN                         NaN   \n",
      "\n",
      "Variable Price increase-P&L Premium per month-P&L Premium, Volume-P&L  \\\n",
      "-12                     NaN                   NaN                 NaN   \n",
      "-11                     NaN                   NaN                 NaN   \n",
      "-10                     NaN                   NaN                 NaN   \n",
      "-9                      NaN                   NaN                 NaN   \n",
      "-8                      NaN                   NaN                 NaN   \n",
      "...                     ...                   ...                 ...   \n",
      " 128                    NaN                   NaN                 NaN   \n",
      " 129                    NaN                   NaN                 NaN   \n",
      " 130                    NaN                   NaN                 NaN   \n",
      " 131                    NaN                   NaN                 NaN   \n",
      " 132                    NaN                   NaN                 NaN   \n",
      "\n",
      "Variable Net revenue-P&L Risk ratio-P&L Loss-P&L Profit share ratio MGA-P&L  \\\n",
      "-12                  NaN            NaN      NaN                        NaN   \n",
      "-11                  NaN            NaN      NaN                        NaN   \n",
      "-10                  NaN            NaN      NaN                        NaN   \n",
      "-9                   NaN            NaN      NaN                        NaN   \n",
      "-8                   NaN            NaN      NaN                        NaN   \n",
      "...                  ...            ...      ...                        ...   \n",
      " 128                 NaN            NaN      NaN                        NaN   \n",
      " 129                 NaN            NaN      NaN                        NaN   \n",
      " 130                 NaN            NaN      NaN                        NaN   \n",
      " 131                 NaN            NaN      NaN                        NaN   \n",
      " 132                 NaN            NaN      NaN                        NaN   \n",
      "\n",
      "Variable  ... Interest rate-FinanceSide Interest payment-FinanceSide  \\\n",
      "-12       ...                       NaN                          NaN   \n",
      "-11       ...                       NaN                          NaN   \n",
      "-10       ...                       NaN                          NaN   \n",
      "-9        ...                       NaN                          NaN   \n",
      "-8        ...                       NaN                          NaN   \n",
      "...       ...                       ...                          ...   \n",
      " 128      ...                       NaN                          NaN   \n",
      " 129      ...                       NaN                          NaN   \n",
      " 130      ...                       NaN                          NaN   \n",
      " 131      ...                       NaN                          NaN   \n",
      " 132      ...                       NaN                          NaN   \n",
      "\n",
      "Variable Cash from investing activities-FinanceSide  \\\n",
      "-12                                             NaN   \n",
      "-11                                             NaN   \n",
      "-10                                             NaN   \n",
      "-9                                              NaN   \n",
      "-8                                              NaN   \n",
      "...                                             ...   \n",
      " 128                                            NaN   \n",
      " 129                                            NaN   \n",
      " 130                                            NaN   \n",
      " 131                                            NaN   \n",
      " 132                                            NaN   \n",
      "\n",
      "Variable Risk loss 12 months-Assets Expenses 12 months-Assets  \\\n",
      "-12                     -622.800526                       NaN   \n",
      "-11                     -622.800526                       NaN   \n",
      "-10                     -622.800526                       NaN   \n",
      "-9                      -622.800526                       NaN   \n",
      "-8                      -622.800526                       NaN   \n",
      "...                             ...                       ...   \n",
      " 128                            NaN                       NaN   \n",
      " 129                            NaN                       NaN   \n",
      " 130                            NaN                       NaN   \n",
      " 131                            NaN                       NaN   \n",
      " 132                            NaN                       NaN   \n",
      "\n",
      "Variable Acquisition 12 months-Assets Forecast Loss 12 months-Liability  \\\n",
      "-12                               NaN                               NaN   \n",
      "-11                               NaN                               NaN   \n",
      "-10                               NaN                               NaN   \n",
      "-9                                NaN                               NaN   \n",
      "-8                                NaN                               NaN   \n",
      "...                               ...                               ...   \n",
      " 128                              NaN                               NaN   \n",
      " 129                              NaN                               NaN   \n",
      " 130                              NaN                               NaN   \n",
      " 131                              NaN                               NaN   \n",
      " 132                              NaN                               NaN   \n",
      "\n",
      "Variable Loss requirement 12 months-Liability  \\\n",
      "-12                                       NaN   \n",
      "-11                                       NaN   \n",
      "-10                                       NaN   \n",
      "-9                                        NaN   \n",
      "-8                                        NaN   \n",
      "...                                       ...   \n",
      " 128                                      NaN   \n",
      " 129                                      NaN   \n",
      " 130                                      NaN   \n",
      " 131                                      NaN   \n",
      " 132                                      NaN   \n",
      "\n",
      "Variable Forecast Expense 12 months-Liability  \\\n",
      "-12                                       NaN   \n",
      "-11                                       NaN   \n",
      "-10                                       NaN   \n",
      "-9                                        NaN   \n",
      "-8                                        NaN   \n",
      "...                                       ...   \n",
      " 128                                      NaN   \n",
      " 129                                      NaN   \n",
      " 130                                      NaN   \n",
      " 131                                      NaN   \n",
      " 132                                      NaN   \n",
      "\n",
      "Variable Expense capital requirement absolute-Liability  \n",
      "-12                                                 NaN  \n",
      "-11                                                 NaN  \n",
      "-10                                                 NaN  \n",
      "-9                                                  NaN  \n",
      "-8                                                  NaN  \n",
      "...                                                 ...  \n",
      " 128                                                NaN  \n",
      " 129                                                NaN  \n",
      " 130                                                NaN  \n",
      " 131                                                NaN  \n",
      " 132                                                NaN  \n",
      "\n",
      "[145 rows x 60 columns]\n"
     ]
    }
   ],
   "source": [
    "lt_data = get_list_input_data_files(data_dic, config.file_path)\n",
    "print(lt_data.__len__())\n",
    "print(lt_data[0])\n",
    "print(lt_data[1])"
   ],
   "metadata": {
    "collapsed": false,
    "pycharm": {
     "name": "#%%\n"
    }
   }
  },
  {
   "cell_type": "code",
   "execution_count": 148,
   "outputs": [
    {
     "data": {
      "text/plain": "Variable Quantity-P&L Retention ratio yearly-P&L Retention ratio monthly-P&L  \\\n-12               NaN                        NaN                         NaN   \n-11               NaN                        NaN                         NaN   \n-10               NaN                        NaN                         NaN   \n-9                NaN                        NaN                         NaN   \n-8                NaN                        NaN                         NaN   \n-7                NaN                        NaN                         NaN   \n-6                NaN                        NaN                         NaN   \n-5                NaN                        NaN                         NaN   \n-4                NaN                        NaN                         NaN   \n-3                NaN                        NaN                         NaN   \n-2                NaN                        NaN                         NaN   \n-1                NaN                        NaN                         NaN   \n 0                NaN                        NaN                         NaN   \n\nVariable Price increase-P&L Premium per month-P&L Premium, Volume-P&L  \\\n-12                     NaN                   NaN                 NaN   \n-11                     NaN                   NaN                 NaN   \n-10                     NaN                   NaN                 NaN   \n-9                      NaN                   NaN                 NaN   \n-8                      NaN                   NaN                 NaN   \n-7                      NaN                   NaN                 NaN   \n-6                      NaN                   NaN                 NaN   \n-5                      NaN                   NaN                 NaN   \n-4                      NaN                   NaN                 NaN   \n-3                      NaN                   NaN                 NaN   \n-2                      NaN                   NaN                 NaN   \n-1                      NaN                   NaN                 NaN   \n 0                      NaN                   NaN                 NaN   \n\nVariable Net revenue-P&L Risk ratio-P&L Loss-P&L Profit share ratio MGA-P&L  \\\n-12                  NaN            NaN      NaN                        NaN   \n-11                  NaN            NaN      NaN                        NaN   \n-10                  NaN            NaN      NaN                        NaN   \n-9                   NaN            NaN      NaN                        NaN   \n-8                   NaN            NaN      NaN                        NaN   \n-7                   NaN            NaN      NaN                        NaN   \n-6                   NaN            NaN      NaN                        NaN   \n-5                   NaN            NaN      NaN                        NaN   \n-4                   NaN            NaN      NaN                        NaN   \n-3                   NaN            NaN      NaN                        NaN   \n-2                   NaN            NaN      NaN                        NaN   \n-1                   NaN            NaN      NaN                        NaN   \n 0                   NaN            NaN      NaN                        NaN   \n\nVariable  ... Interest rate-FinanceSide Interest payment-FinanceSide  \\\n-12       ...                       NaN                          NaN   \n-11       ...                       NaN                          NaN   \n-10       ...                       NaN                          NaN   \n-9        ...                       NaN                          NaN   \n-8        ...                       NaN                          NaN   \n-7        ...                       NaN                          NaN   \n-6        ...                       NaN                          NaN   \n-5        ...                       NaN                          NaN   \n-4        ...                       NaN                          NaN   \n-3        ...                       NaN                          NaN   \n-2        ...                       NaN                          NaN   \n-1        ...                       NaN                          NaN   \n 0        ...                       NaN                          NaN   \n\nVariable Cash from investing activities-FinanceSide  \\\n-12                                             NaN   \n-11                                             NaN   \n-10                                             NaN   \n-9                                              NaN   \n-8                                              NaN   \n-7                                              NaN   \n-6                                              NaN   \n-5                                              NaN   \n-4                                              NaN   \n-3                                              NaN   \n-2                                              NaN   \n-1                                              NaN   \n 0                                              NaN   \n\nVariable Risk loss 12 months-Assets Expenses 12 months-Assets  \\\n-12                             NaN                       NaN   \n-11                             NaN                       NaN   \n-10                             NaN                       NaN   \n-9                              NaN                       NaN   \n-8                              NaN                       NaN   \n-7                              NaN                       NaN   \n-6                              NaN                       NaN   \n-5                              NaN                       NaN   \n-4                              NaN                       NaN   \n-3                              NaN                       NaN   \n-2                              NaN                       NaN   \n-1                              NaN                       NaN   \n 0                              NaN                       NaN   \n\nVariable Acquisition 12 months-Assets Forecast Loss 12 months-Liability  \\\n-12                               NaN                               NaN   \n-11                               NaN                               NaN   \n-10                               NaN                               NaN   \n-9                                NaN                               NaN   \n-8                                NaN                               NaN   \n-7                                NaN                               NaN   \n-6                                NaN                               NaN   \n-5                                NaN                               NaN   \n-4                                NaN                               NaN   \n-3                                NaN                               NaN   \n-2                                NaN                               NaN   \n-1                                NaN                               NaN   \n 0                                NaN                               NaN   \n\nVariable Loss requirement 12 months-Liability  \\\n-12                                       NaN   \n-11                                       NaN   \n-10                                       NaN   \n-9                                        NaN   \n-8                                        NaN   \n-7                                        NaN   \n-6                                        NaN   \n-5                                        NaN   \n-4                                        NaN   \n-3                                        NaN   \n-2                                        NaN   \n-1                                        NaN   \n 0                                        NaN   \n\nVariable Forecast Expense 12 months-Liability  \\\n-12                                       NaN   \n-11                                       NaN   \n-10                                       NaN   \n-9                                        NaN   \n-8                                        NaN   \n-7                                        NaN   \n-6                                        NaN   \n-5                                        NaN   \n-4                                        NaN   \n-3                                        NaN   \n-2                                        NaN   \n-1                                        NaN   \n 0                                        NaN   \n\nVariable Expense capital requirement absolute-Liability  \n-12                                                 NaN  \n-11                                                 NaN  \n-10                                                 NaN  \n-9                                                  NaN  \n-8                                                  NaN  \n-7                                                  NaN  \n-6                                                  NaN  \n-5                                                  NaN  \n-4                                                  NaN  \n-3                                                  NaN  \n-2                                                  NaN  \n-1                                                  NaN  \n 0                                                  NaN  \n\n[13 rows x 60 columns]",
      "text/html": "<div>\n<style scoped>\n    .dataframe tbody tr th:only-of-type {\n        vertical-align: middle;\n    }\n\n    .dataframe tbody tr th {\n        vertical-align: top;\n    }\n\n    .dataframe thead th {\n        text-align: right;\n    }\n</style>\n<table border=\"1\" class=\"dataframe\">\n  <thead>\n    <tr style=\"text-align: right;\">\n      <th>Variable</th>\n      <th>Quantity-P&amp;L</th>\n      <th>Retention ratio yearly-P&amp;L</th>\n      <th>Retention ratio monthly-P&amp;L</th>\n      <th>Price increase-P&amp;L</th>\n      <th>Premium per month-P&amp;L</th>\n      <th>Premium, Volume-P&amp;L</th>\n      <th>Net revenue-P&amp;L</th>\n      <th>Risk ratio-P&amp;L</th>\n      <th>Loss-P&amp;L</th>\n      <th>Profit share ratio MGA-P&amp;L</th>\n      <th>...</th>\n      <th>Interest rate-FinanceSide</th>\n      <th>Interest payment-FinanceSide</th>\n      <th>Cash from investing activities-FinanceSide</th>\n      <th>Risk loss 12 months-Assets</th>\n      <th>Expenses 12 months-Assets</th>\n      <th>Acquisition 12 months-Assets</th>\n      <th>Forecast Loss 12 months-Liability</th>\n      <th>Loss requirement 12 months-Liability</th>\n      <th>Forecast Expense 12 months-Liability</th>\n      <th>Expense capital requirement absolute-Liability</th>\n    </tr>\n  </thead>\n  <tbody>\n    <tr>\n      <th>-12</th>\n      <td>NaN</td>\n      <td>NaN</td>\n      <td>NaN</td>\n      <td>NaN</td>\n      <td>NaN</td>\n      <td>NaN</td>\n      <td>NaN</td>\n      <td>NaN</td>\n      <td>NaN</td>\n      <td>NaN</td>\n      <td>...</td>\n      <td>NaN</td>\n      <td>NaN</td>\n      <td>NaN</td>\n      <td>NaN</td>\n      <td>NaN</td>\n      <td>NaN</td>\n      <td>NaN</td>\n      <td>NaN</td>\n      <td>NaN</td>\n      <td>NaN</td>\n    </tr>\n    <tr>\n      <th>-11</th>\n      <td>NaN</td>\n      <td>NaN</td>\n      <td>NaN</td>\n      <td>NaN</td>\n      <td>NaN</td>\n      <td>NaN</td>\n      <td>NaN</td>\n      <td>NaN</td>\n      <td>NaN</td>\n      <td>NaN</td>\n      <td>...</td>\n      <td>NaN</td>\n      <td>NaN</td>\n      <td>NaN</td>\n      <td>NaN</td>\n      <td>NaN</td>\n      <td>NaN</td>\n      <td>NaN</td>\n      <td>NaN</td>\n      <td>NaN</td>\n      <td>NaN</td>\n    </tr>\n    <tr>\n      <th>-10</th>\n      <td>NaN</td>\n      <td>NaN</td>\n      <td>NaN</td>\n      <td>NaN</td>\n      <td>NaN</td>\n      <td>NaN</td>\n      <td>NaN</td>\n      <td>NaN</td>\n      <td>NaN</td>\n      <td>NaN</td>\n      <td>...</td>\n      <td>NaN</td>\n      <td>NaN</td>\n      <td>NaN</td>\n      <td>NaN</td>\n      <td>NaN</td>\n      <td>NaN</td>\n      <td>NaN</td>\n      <td>NaN</td>\n      <td>NaN</td>\n      <td>NaN</td>\n    </tr>\n    <tr>\n      <th>-9</th>\n      <td>NaN</td>\n      <td>NaN</td>\n      <td>NaN</td>\n      <td>NaN</td>\n      <td>NaN</td>\n      <td>NaN</td>\n      <td>NaN</td>\n      <td>NaN</td>\n      <td>NaN</td>\n      <td>NaN</td>\n      <td>...</td>\n      <td>NaN</td>\n      <td>NaN</td>\n      <td>NaN</td>\n      <td>NaN</td>\n      <td>NaN</td>\n      <td>NaN</td>\n      <td>NaN</td>\n      <td>NaN</td>\n      <td>NaN</td>\n      <td>NaN</td>\n    </tr>\n    <tr>\n      <th>-8</th>\n      <td>NaN</td>\n      <td>NaN</td>\n      <td>NaN</td>\n      <td>NaN</td>\n      <td>NaN</td>\n      <td>NaN</td>\n      <td>NaN</td>\n      <td>NaN</td>\n      <td>NaN</td>\n      <td>NaN</td>\n      <td>...</td>\n      <td>NaN</td>\n      <td>NaN</td>\n      <td>NaN</td>\n      <td>NaN</td>\n      <td>NaN</td>\n      <td>NaN</td>\n      <td>NaN</td>\n      <td>NaN</td>\n      <td>NaN</td>\n      <td>NaN</td>\n    </tr>\n    <tr>\n      <th>-7</th>\n      <td>NaN</td>\n      <td>NaN</td>\n      <td>NaN</td>\n      <td>NaN</td>\n      <td>NaN</td>\n      <td>NaN</td>\n      <td>NaN</td>\n      <td>NaN</td>\n      <td>NaN</td>\n      <td>NaN</td>\n      <td>...</td>\n      <td>NaN</td>\n      <td>NaN</td>\n      <td>NaN</td>\n      <td>NaN</td>\n      <td>NaN</td>\n      <td>NaN</td>\n      <td>NaN</td>\n      <td>NaN</td>\n      <td>NaN</td>\n      <td>NaN</td>\n    </tr>\n    <tr>\n      <th>-6</th>\n      <td>NaN</td>\n      <td>NaN</td>\n      <td>NaN</td>\n      <td>NaN</td>\n      <td>NaN</td>\n      <td>NaN</td>\n      <td>NaN</td>\n      <td>NaN</td>\n      <td>NaN</td>\n      <td>NaN</td>\n      <td>...</td>\n      <td>NaN</td>\n      <td>NaN</td>\n      <td>NaN</td>\n      <td>NaN</td>\n      <td>NaN</td>\n      <td>NaN</td>\n      <td>NaN</td>\n      <td>NaN</td>\n      <td>NaN</td>\n      <td>NaN</td>\n    </tr>\n    <tr>\n      <th>-5</th>\n      <td>NaN</td>\n      <td>NaN</td>\n      <td>NaN</td>\n      <td>NaN</td>\n      <td>NaN</td>\n      <td>NaN</td>\n      <td>NaN</td>\n      <td>NaN</td>\n      <td>NaN</td>\n      <td>NaN</td>\n      <td>...</td>\n      <td>NaN</td>\n      <td>NaN</td>\n      <td>NaN</td>\n      <td>NaN</td>\n      <td>NaN</td>\n      <td>NaN</td>\n      <td>NaN</td>\n      <td>NaN</td>\n      <td>NaN</td>\n      <td>NaN</td>\n    </tr>\n    <tr>\n      <th>-4</th>\n      <td>NaN</td>\n      <td>NaN</td>\n      <td>NaN</td>\n      <td>NaN</td>\n      <td>NaN</td>\n      <td>NaN</td>\n      <td>NaN</td>\n      <td>NaN</td>\n      <td>NaN</td>\n      <td>NaN</td>\n      <td>...</td>\n      <td>NaN</td>\n      <td>NaN</td>\n      <td>NaN</td>\n      <td>NaN</td>\n      <td>NaN</td>\n      <td>NaN</td>\n      <td>NaN</td>\n      <td>NaN</td>\n      <td>NaN</td>\n      <td>NaN</td>\n    </tr>\n    <tr>\n      <th>-3</th>\n      <td>NaN</td>\n      <td>NaN</td>\n      <td>NaN</td>\n      <td>NaN</td>\n      <td>NaN</td>\n      <td>NaN</td>\n      <td>NaN</td>\n      <td>NaN</td>\n      <td>NaN</td>\n      <td>NaN</td>\n      <td>...</td>\n      <td>NaN</td>\n      <td>NaN</td>\n      <td>NaN</td>\n      <td>NaN</td>\n      <td>NaN</td>\n      <td>NaN</td>\n      <td>NaN</td>\n      <td>NaN</td>\n      <td>NaN</td>\n      <td>NaN</td>\n    </tr>\n    <tr>\n      <th>-2</th>\n      <td>NaN</td>\n      <td>NaN</td>\n      <td>NaN</td>\n      <td>NaN</td>\n      <td>NaN</td>\n      <td>NaN</td>\n      <td>NaN</td>\n      <td>NaN</td>\n      <td>NaN</td>\n      <td>NaN</td>\n      <td>...</td>\n      <td>NaN</td>\n      <td>NaN</td>\n      <td>NaN</td>\n      <td>NaN</td>\n      <td>NaN</td>\n      <td>NaN</td>\n      <td>NaN</td>\n      <td>NaN</td>\n      <td>NaN</td>\n      <td>NaN</td>\n    </tr>\n    <tr>\n      <th>-1</th>\n      <td>NaN</td>\n      <td>NaN</td>\n      <td>NaN</td>\n      <td>NaN</td>\n      <td>NaN</td>\n      <td>NaN</td>\n      <td>NaN</td>\n      <td>NaN</td>\n      <td>NaN</td>\n      <td>NaN</td>\n      <td>...</td>\n      <td>NaN</td>\n      <td>NaN</td>\n      <td>NaN</td>\n      <td>NaN</td>\n      <td>NaN</td>\n      <td>NaN</td>\n      <td>NaN</td>\n      <td>NaN</td>\n      <td>NaN</td>\n      <td>NaN</td>\n    </tr>\n    <tr>\n      <th>0</th>\n      <td>NaN</td>\n      <td>NaN</td>\n      <td>NaN</td>\n      <td>NaN</td>\n      <td>NaN</td>\n      <td>NaN</td>\n      <td>NaN</td>\n      <td>NaN</td>\n      <td>NaN</td>\n      <td>NaN</td>\n      <td>...</td>\n      <td>NaN</td>\n      <td>NaN</td>\n      <td>NaN</td>\n      <td>NaN</td>\n      <td>NaN</td>\n      <td>NaN</td>\n      <td>NaN</td>\n      <td>NaN</td>\n      <td>NaN</td>\n      <td>NaN</td>\n    </tr>\n  </tbody>\n</table>\n<p>13 rows × 60 columns</p>\n</div>"
     },
     "execution_count": 148,
     "metadata": {},
     "output_type": "execute_result"
    }
   ],
   "source": [
    "input_test = lt_data[1]\n",
    "input_columns = input_test.columns\n",
    "idx = np.arange(-12, 1, 1)\n",
    "pd_first = pd.DataFrame(index=idx, columns=input_columns)\n",
    "pd_first"
   ],
   "metadata": {
    "collapsed": false,
    "pycharm": {
     "name": "#%%\n"
    }
   }
  },
  {
   "cell_type": "code",
   "execution_count": 379,
   "outputs": [
    {
     "data": {
      "text/plain": "Variable  Quantity-P&L  Retention ratio yearly-P&L  \\\n-12                NaN                         NaN   \n-11                NaN                         NaN   \n-10                NaN                         NaN   \n-9                 NaN                         NaN   \n-8                 NaN                         NaN   \n...                ...                         ...   \n 116               NaN                        0.95   \n 117               NaN                        0.95   \n 118               NaN                        0.95   \n 119               NaN                        0.95   \n 120               NaN                        0.95   \n\nVariable  Retention ratio monthly-P&L  Price increase-P&L  \\\n-12                               NaN                 NaN   \n-11                               NaN                 NaN   \n-10                               NaN                 NaN   \n-9                                NaN                 NaN   \n-8                                NaN                 NaN   \n...                               ...                 ...   \n 116                              NaN                 NaN   \n 117                              NaN                 NaN   \n 118                              NaN                 NaN   \n 119                              NaN                 NaN   \n 120                              NaN                 NaN   \n\nVariable  Premium per month-P&L  Premium, Volume-P&L  Net revenue-P&L  \\\n-12                         NaN                  NaN              NaN   \n-11                         NaN                  NaN              NaN   \n-10                         NaN                  NaN              NaN   \n-9                          NaN                  NaN              NaN   \n-8                          NaN                  NaN              NaN   \n...                         ...                  ...              ...   \n 116                        NaN                  NaN              NaN   \n 117                        NaN                  NaN              NaN   \n 118                        NaN                  NaN              NaN   \n 119                        NaN                  NaN              NaN   \n 120                        NaN                  NaN              NaN   \n\nVariable  Risk ratio-P&L  Loss-P&L  Expense Ratio-P&L  ...  \\\n-12                  NaN       NaN                NaN  ...   \n-11                  NaN       NaN                NaN  ...   \n-10                  NaN       NaN                NaN  ...   \n-9                   NaN       NaN                NaN  ...   \n-8                   NaN       NaN                NaN  ...   \n...                  ...       ...                ...  ...   \n 116                 NaN       NaN                NaN  ...   \n 117                 NaN       NaN                NaN  ...   \n 118                 NaN       NaN                NaN  ...   \n 119                 NaN       NaN                NaN  ...   \n 120                 NaN       NaN                NaN  ...   \n\nVariable  Interest rate-FinanceSide  Interest payment-FinanceSide  \\\n-12                             NaN                           NaN   \n-11                             NaN                           NaN   \n-10                             NaN                           NaN   \n-9                              NaN                           NaN   \n-8                              NaN                           NaN   \n...                             ...                           ...   \n 116                            NaN                           NaN   \n 117                            NaN                           NaN   \n 118                            NaN                           NaN   \n 119                            NaN                           NaN   \n 120                            NaN                           NaN   \n\nVariable  Cash from investing activities-FinanceSide  \\\n-12                                              NaN   \n-11                                              NaN   \n-10                                              NaN   \n-9                                               NaN   \n-8                                               NaN   \n...                                              ...   \n 116                                             NaN   \n 117                                             NaN   \n 118                                             NaN   \n 119                                             NaN   \n 120                                             NaN   \n\nVariable  Risk loss 12 months-Assets  Expenses 12 months-Assets  \\\n-12                             32.0                        NaN   \n-11                             32.0                        NaN   \n-10                             32.0                        NaN   \n-9                              32.0                        NaN   \n-8                              32.0                        NaN   \n...                              ...                        ...   \n 116                             NaN                        NaN   \n 117                             NaN                        NaN   \n 118                             NaN                        NaN   \n 119                             NaN                        NaN   \n 120                             NaN                        NaN   \n\nVariable  Acquisition 12 months-Assets  Forecast Loss 12 months-Liability  \\\n-12                                NaN                                NaN   \n-11                                NaN                                NaN   \n-10                                NaN                                NaN   \n-9                                 NaN                                NaN   \n-8                                 NaN                                NaN   \n...                                ...                                ...   \n 116                               NaN                                NaN   \n 117                               NaN                                NaN   \n 118                               NaN                                NaN   \n 119                               NaN                                NaN   \n 120                               NaN                                NaN   \n\nVariable  Loss requirement 12 months-Liability  \\\n-12                                        NaN   \n-11                                        NaN   \n-10                                        NaN   \n-9                                         NaN   \n-8                                         NaN   \n...                                        ...   \n 116                                       NaN   \n 117                                       NaN   \n 118                                       NaN   \n 119                                       NaN   \n 120                                       NaN   \n\nVariable  Forecast Expense 12 months-Liability  \\\n-12                                        NaN   \n-11                                        NaN   \n-10                                        NaN   \n-9                                         NaN   \n-8                                         NaN   \n...                                        ...   \n 116                                       NaN   \n 117                                       NaN   \n 118                                       NaN   \n 119                                       NaN   \n 120                                       NaN   \n\nVariable  Expense capital requirement absolute-Liability  \n-12                                                  NaN  \n-11                                                  NaN  \n-10                                                  NaN  \n-9                                                   NaN  \n-8                                                   NaN  \n...                                                  ...  \n 116                                                 NaN  \n 117                                                 NaN  \n 118                                                 NaN  \n 119                                                 NaN  \n 120                                                 NaN  \n\n[133 rows x 57 columns]",
      "text/html": "<div>\n<style scoped>\n    .dataframe tbody tr th:only-of-type {\n        vertical-align: middle;\n    }\n\n    .dataframe tbody tr th {\n        vertical-align: top;\n    }\n\n    .dataframe thead th {\n        text-align: right;\n    }\n</style>\n<table border=\"1\" class=\"dataframe\">\n  <thead>\n    <tr style=\"text-align: right;\">\n      <th>Variable</th>\n      <th>Quantity-P&amp;L</th>\n      <th>Retention ratio yearly-P&amp;L</th>\n      <th>Retention ratio monthly-P&amp;L</th>\n      <th>Price increase-P&amp;L</th>\n      <th>Premium per month-P&amp;L</th>\n      <th>Premium, Volume-P&amp;L</th>\n      <th>Net revenue-P&amp;L</th>\n      <th>Risk ratio-P&amp;L</th>\n      <th>Loss-P&amp;L</th>\n      <th>Expense Ratio-P&amp;L</th>\n      <th>...</th>\n      <th>Interest rate-FinanceSide</th>\n      <th>Interest payment-FinanceSide</th>\n      <th>Cash from investing activities-FinanceSide</th>\n      <th>Risk loss 12 months-Assets</th>\n      <th>Expenses 12 months-Assets</th>\n      <th>Acquisition 12 months-Assets</th>\n      <th>Forecast Loss 12 months-Liability</th>\n      <th>Loss requirement 12 months-Liability</th>\n      <th>Forecast Expense 12 months-Liability</th>\n      <th>Expense capital requirement absolute-Liability</th>\n    </tr>\n  </thead>\n  <tbody>\n    <tr>\n      <th>-12</th>\n      <td>NaN</td>\n      <td>NaN</td>\n      <td>NaN</td>\n      <td>NaN</td>\n      <td>NaN</td>\n      <td>NaN</td>\n      <td>NaN</td>\n      <td>NaN</td>\n      <td>NaN</td>\n      <td>NaN</td>\n      <td>...</td>\n      <td>NaN</td>\n      <td>NaN</td>\n      <td>NaN</td>\n      <td>32.0</td>\n      <td>NaN</td>\n      <td>NaN</td>\n      <td>NaN</td>\n      <td>NaN</td>\n      <td>NaN</td>\n      <td>NaN</td>\n    </tr>\n    <tr>\n      <th>-11</th>\n      <td>NaN</td>\n      <td>NaN</td>\n      <td>NaN</td>\n      <td>NaN</td>\n      <td>NaN</td>\n      <td>NaN</td>\n      <td>NaN</td>\n      <td>NaN</td>\n      <td>NaN</td>\n      <td>NaN</td>\n      <td>...</td>\n      <td>NaN</td>\n      <td>NaN</td>\n      <td>NaN</td>\n      <td>32.0</td>\n      <td>NaN</td>\n      <td>NaN</td>\n      <td>NaN</td>\n      <td>NaN</td>\n      <td>NaN</td>\n      <td>NaN</td>\n    </tr>\n    <tr>\n      <th>-10</th>\n      <td>NaN</td>\n      <td>NaN</td>\n      <td>NaN</td>\n      <td>NaN</td>\n      <td>NaN</td>\n      <td>NaN</td>\n      <td>NaN</td>\n      <td>NaN</td>\n      <td>NaN</td>\n      <td>NaN</td>\n      <td>...</td>\n      <td>NaN</td>\n      <td>NaN</td>\n      <td>NaN</td>\n      <td>32.0</td>\n      <td>NaN</td>\n      <td>NaN</td>\n      <td>NaN</td>\n      <td>NaN</td>\n      <td>NaN</td>\n      <td>NaN</td>\n    </tr>\n    <tr>\n      <th>-9</th>\n      <td>NaN</td>\n      <td>NaN</td>\n      <td>NaN</td>\n      <td>NaN</td>\n      <td>NaN</td>\n      <td>NaN</td>\n      <td>NaN</td>\n      <td>NaN</td>\n      <td>NaN</td>\n      <td>NaN</td>\n      <td>...</td>\n      <td>NaN</td>\n      <td>NaN</td>\n      <td>NaN</td>\n      <td>32.0</td>\n      <td>NaN</td>\n      <td>NaN</td>\n      <td>NaN</td>\n      <td>NaN</td>\n      <td>NaN</td>\n      <td>NaN</td>\n    </tr>\n    <tr>\n      <th>-8</th>\n      <td>NaN</td>\n      <td>NaN</td>\n      <td>NaN</td>\n      <td>NaN</td>\n      <td>NaN</td>\n      <td>NaN</td>\n      <td>NaN</td>\n      <td>NaN</td>\n      <td>NaN</td>\n      <td>NaN</td>\n      <td>...</td>\n      <td>NaN</td>\n      <td>NaN</td>\n      <td>NaN</td>\n      <td>32.0</td>\n      <td>NaN</td>\n      <td>NaN</td>\n      <td>NaN</td>\n      <td>NaN</td>\n      <td>NaN</td>\n      <td>NaN</td>\n    </tr>\n    <tr>\n      <th>...</th>\n      <td>...</td>\n      <td>...</td>\n      <td>...</td>\n      <td>...</td>\n      <td>...</td>\n      <td>...</td>\n      <td>...</td>\n      <td>...</td>\n      <td>...</td>\n      <td>...</td>\n      <td>...</td>\n      <td>...</td>\n      <td>...</td>\n      <td>...</td>\n      <td>...</td>\n      <td>...</td>\n      <td>...</td>\n      <td>...</td>\n      <td>...</td>\n      <td>...</td>\n      <td>...</td>\n    </tr>\n    <tr>\n      <th>116</th>\n      <td>NaN</td>\n      <td>0.95</td>\n      <td>NaN</td>\n      <td>NaN</td>\n      <td>NaN</td>\n      <td>NaN</td>\n      <td>NaN</td>\n      <td>NaN</td>\n      <td>NaN</td>\n      <td>NaN</td>\n      <td>...</td>\n      <td>NaN</td>\n      <td>NaN</td>\n      <td>NaN</td>\n      <td>NaN</td>\n      <td>NaN</td>\n      <td>NaN</td>\n      <td>NaN</td>\n      <td>NaN</td>\n      <td>NaN</td>\n      <td>NaN</td>\n    </tr>\n    <tr>\n      <th>117</th>\n      <td>NaN</td>\n      <td>0.95</td>\n      <td>NaN</td>\n      <td>NaN</td>\n      <td>NaN</td>\n      <td>NaN</td>\n      <td>NaN</td>\n      <td>NaN</td>\n      <td>NaN</td>\n      <td>NaN</td>\n      <td>...</td>\n      <td>NaN</td>\n      <td>NaN</td>\n      <td>NaN</td>\n      <td>NaN</td>\n      <td>NaN</td>\n      <td>NaN</td>\n      <td>NaN</td>\n      <td>NaN</td>\n      <td>NaN</td>\n      <td>NaN</td>\n    </tr>\n    <tr>\n      <th>118</th>\n      <td>NaN</td>\n      <td>0.95</td>\n      <td>NaN</td>\n      <td>NaN</td>\n      <td>NaN</td>\n      <td>NaN</td>\n      <td>NaN</td>\n      <td>NaN</td>\n      <td>NaN</td>\n      <td>NaN</td>\n      <td>...</td>\n      <td>NaN</td>\n      <td>NaN</td>\n      <td>NaN</td>\n      <td>NaN</td>\n      <td>NaN</td>\n      <td>NaN</td>\n      <td>NaN</td>\n      <td>NaN</td>\n      <td>NaN</td>\n      <td>NaN</td>\n    </tr>\n    <tr>\n      <th>119</th>\n      <td>NaN</td>\n      <td>0.95</td>\n      <td>NaN</td>\n      <td>NaN</td>\n      <td>NaN</td>\n      <td>NaN</td>\n      <td>NaN</td>\n      <td>NaN</td>\n      <td>NaN</td>\n      <td>NaN</td>\n      <td>...</td>\n      <td>NaN</td>\n      <td>NaN</td>\n      <td>NaN</td>\n      <td>NaN</td>\n      <td>NaN</td>\n      <td>NaN</td>\n      <td>NaN</td>\n      <td>NaN</td>\n      <td>NaN</td>\n      <td>NaN</td>\n    </tr>\n    <tr>\n      <th>120</th>\n      <td>NaN</td>\n      <td>0.95</td>\n      <td>NaN</td>\n      <td>NaN</td>\n      <td>NaN</td>\n      <td>NaN</td>\n      <td>NaN</td>\n      <td>NaN</td>\n      <td>NaN</td>\n      <td>NaN</td>\n      <td>...</td>\n      <td>NaN</td>\n      <td>NaN</td>\n      <td>NaN</td>\n      <td>NaN</td>\n      <td>NaN</td>\n      <td>NaN</td>\n      <td>NaN</td>\n      <td>NaN</td>\n      <td>NaN</td>\n      <td>NaN</td>\n    </tr>\n  </tbody>\n</table>\n<p>133 rows × 57 columns</p>\n</div>"
     },
     "execution_count": 379,
     "metadata": {},
     "output_type": "execute_result"
    }
   ],
   "source": [
    "c1.report_data()"
   ],
   "metadata": {
    "collapsed": false,
    "pycharm": {
     "name": "#%%\n"
    }
   }
  },
  {
   "cell_type": "code",
   "execution_count": null,
   "outputs": [],
   "source": [],
   "metadata": {
    "collapsed": false,
    "pycharm": {
     "name": "#%%\n"
    }
   }
  }
 ],
 "metadata": {
  "kernelspec": {
   "display_name": "Python 3 (ipykernel)",
   "language": "python",
   "name": "python3"
  },
  "language_info": {
   "codemirror_mode": {
    "name": "ipython",
    "version": 3
   },
   "file_extension": ".py",
   "mimetype": "text/x-python",
   "name": "python",
   "nbconvert_exporter": "python",
   "pygments_lexer": "ipython3",
   "version": "3.10.8"
  }
 },
 "nbformat": 4,
 "nbformat_minor": 5
}